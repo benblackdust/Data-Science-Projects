{
  "nbformat": 4,
  "nbformat_minor": 0,
  "metadata": {
    "colab": {
      "provenance": []
    },
    "kernelspec": {
      "name": "python3",
      "display_name": "Python 3"
    },
    "language_info": {
      "name": "python"
    }
  },
  "cells": [
    {
      "cell_type": "code",
      "execution_count": null,
      "metadata": {
        "id": "cEtQCy11VB3w"
      },
      "outputs": [],
      "source": []
    },
    {
      "cell_type": "markdown",
      "source": [
        "# Team #1\n",
        "\n",
        "Team Members:\n",
        "- Benjamin Bui-Dang\n",
        "- Shittichai Chiakamol\n",
        "- James Doku"
      ],
      "metadata": {
        "id": "aa_8pVdJXCzf"
      }
    },
    {
      "cell_type": "markdown",
      "source": [
        "## In this lab, we will use the **Pytorch Library** to process the images."
      ],
      "metadata": {
        "id": "SIuoFOqaXfiS"
      }
    },
    {
      "cell_type": "markdown",
      "source": [
        "Importing Libraries"
      ],
      "metadata": {
        "id": "hyoj0G3PXp_P"
      }
    },
    {
      "cell_type": "code",
      "source": [
        "import numpy as np # numpy is for processing numerical data\n",
        "import pandas as pd # pandas is for process numerical and objects data types"
      ],
      "metadata": {
        "id": "ZjnuPz0oXuib"
      },
      "execution_count": null,
      "outputs": []
    },
    {
      "cell_type": "code",
      "source": [
        "# first, we need to install torchvision\n",
        "# !pip install torchvision"
      ],
      "metadata": {
        "colab": {
          "base_uri": "https://localhost:8080/"
        },
        "id": "tzif8OZkYBV7",
        "outputId": "bb8e9edc-68b7-45b8-8cdc-d557cb570b78"
      },
      "execution_count": null,
      "outputs": [
        {
          "output_type": "stream",
          "name": "stdout",
          "text": [
            "Looking in indexes: https://pypi.org/simple, https://us-python.pkg.dev/colab-wheels/public/simple/\n",
            "Requirement already satisfied: torchvision in /usr/local/lib/python3.10/dist-packages (0.15.1+cu118)\n",
            "Requirement already satisfied: torch==2.0.0 in /usr/local/lib/python3.10/dist-packages (from torchvision) (2.0.0+cu118)\n",
            "Requirement already satisfied: numpy in /usr/local/lib/python3.10/dist-packages (from torchvision) (1.22.4)\n",
            "Requirement already satisfied: requests in /usr/local/lib/python3.10/dist-packages (from torchvision) (2.27.1)\n",
            "Requirement already satisfied: pillow!=8.3.*,>=5.3.0 in /usr/local/lib/python3.10/dist-packages (from torchvision) (8.4.0)\n",
            "Requirement already satisfied: filelock in /usr/local/lib/python3.10/dist-packages (from torch==2.0.0->torchvision) (3.12.0)\n",
            "Requirement already satisfied: typing-extensions in /usr/local/lib/python3.10/dist-packages (from torch==2.0.0->torchvision) (4.5.0)\n",
            "Requirement already satisfied: networkx in /usr/local/lib/python3.10/dist-packages (from torch==2.0.0->torchvision) (3.1)\n",
            "Requirement already satisfied: jinja2 in /usr/local/lib/python3.10/dist-packages (from torch==2.0.0->torchvision) (3.1.2)\n",
            "Requirement already satisfied: sympy in /usr/local/lib/python3.10/dist-packages (from torch==2.0.0->torchvision) (1.11.1)\n",
            "Requirement already satisfied: triton==2.0.0 in /usr/local/lib/python3.10/dist-packages (from torch==2.0.0->torchvision) (2.0.0)\n",
            "Requirement already satisfied: lit in /usr/local/lib/python3.10/dist-packages (from triton==2.0.0->torch==2.0.0->torchvision) (16.0.2)\n",
            "Requirement already satisfied: cmake in /usr/local/lib/python3.10/dist-packages (from triton==2.0.0->torch==2.0.0->torchvision) (3.25.2)\n",
            "Requirement already satisfied: charset-normalizer~=2.0.0 in /usr/local/lib/python3.10/dist-packages (from requests->torchvision) (2.0.12)\n",
            "Requirement already satisfied: idna<4,>=2.5 in /usr/local/lib/python3.10/dist-packages (from requests->torchvision) (3.4)\n",
            "Requirement already satisfied: certifi>=2017.4.17 in /usr/local/lib/python3.10/dist-packages (from requests->torchvision) (2022.12.7)\n",
            "Requirement already satisfied: urllib3<1.27,>=1.21.1 in /usr/local/lib/python3.10/dist-packages (from requests->torchvision) (1.26.15)\n",
            "Requirement already satisfied: MarkupSafe>=2.0 in /usr/local/lib/python3.10/dist-packages (from jinja2->torch==2.0.0->torchvision) (2.1.2)\n",
            "Requirement already satisfied: mpmath>=0.19 in /usr/local/lib/python3.10/dist-packages (from sympy->torch==2.0.0->torchvision) (1.3.0)\n"
          ]
        }
      ]
    },
    {
      "cell_type": "code",
      "source": [
        "#then, we import more libraries\n",
        "from torchvision import models\n",
        "import torch"
      ],
      "metadata": {
        "id": "ys_jyZ-cYSVN"
      },
      "execution_count": null,
      "outputs": []
    },
    {
      "cell_type": "code",
      "source": [
        "# getting the pre-trained model from torchvision library\n",
        "dir (models)"
      ],
      "metadata": {
        "colab": {
          "base_uri": "https://localhost:8080/"
        },
        "id": "bFUfSZk8Ycys",
        "outputId": "e7b94b3c-0a42-488c-db1f-41eb27306a46"
      },
      "execution_count": null,
      "outputs": [
        {
          "output_type": "execute_result",
          "data": {
            "text/plain": [
              "['AlexNet',\n",
              " 'AlexNet_Weights',\n",
              " 'ConvNeXt',\n",
              " 'ConvNeXt_Base_Weights',\n",
              " 'ConvNeXt_Large_Weights',\n",
              " 'ConvNeXt_Small_Weights',\n",
              " 'ConvNeXt_Tiny_Weights',\n",
              " 'DenseNet',\n",
              " 'DenseNet121_Weights',\n",
              " 'DenseNet161_Weights',\n",
              " 'DenseNet169_Weights',\n",
              " 'DenseNet201_Weights',\n",
              " 'EfficientNet',\n",
              " 'EfficientNet_B0_Weights',\n",
              " 'EfficientNet_B1_Weights',\n",
              " 'EfficientNet_B2_Weights',\n",
              " 'EfficientNet_B3_Weights',\n",
              " 'EfficientNet_B4_Weights',\n",
              " 'EfficientNet_B5_Weights',\n",
              " 'EfficientNet_B6_Weights',\n",
              " 'EfficientNet_B7_Weights',\n",
              " 'EfficientNet_V2_L_Weights',\n",
              " 'EfficientNet_V2_M_Weights',\n",
              " 'EfficientNet_V2_S_Weights',\n",
              " 'GoogLeNet',\n",
              " 'GoogLeNetOutputs',\n",
              " 'GoogLeNet_Weights',\n",
              " 'Inception3',\n",
              " 'InceptionOutputs',\n",
              " 'Inception_V3_Weights',\n",
              " 'MNASNet',\n",
              " 'MNASNet0_5_Weights',\n",
              " 'MNASNet0_75_Weights',\n",
              " 'MNASNet1_0_Weights',\n",
              " 'MNASNet1_3_Weights',\n",
              " 'MaxVit',\n",
              " 'MaxVit_T_Weights',\n",
              " 'MobileNetV2',\n",
              " 'MobileNetV3',\n",
              " 'MobileNet_V2_Weights',\n",
              " 'MobileNet_V3_Large_Weights',\n",
              " 'MobileNet_V3_Small_Weights',\n",
              " 'RegNet',\n",
              " 'RegNet_X_16GF_Weights',\n",
              " 'RegNet_X_1_6GF_Weights',\n",
              " 'RegNet_X_32GF_Weights',\n",
              " 'RegNet_X_3_2GF_Weights',\n",
              " 'RegNet_X_400MF_Weights',\n",
              " 'RegNet_X_800MF_Weights',\n",
              " 'RegNet_X_8GF_Weights',\n",
              " 'RegNet_Y_128GF_Weights',\n",
              " 'RegNet_Y_16GF_Weights',\n",
              " 'RegNet_Y_1_6GF_Weights',\n",
              " 'RegNet_Y_32GF_Weights',\n",
              " 'RegNet_Y_3_2GF_Weights',\n",
              " 'RegNet_Y_400MF_Weights',\n",
              " 'RegNet_Y_800MF_Weights',\n",
              " 'RegNet_Y_8GF_Weights',\n",
              " 'ResNeXt101_32X8D_Weights',\n",
              " 'ResNeXt101_64X4D_Weights',\n",
              " 'ResNeXt50_32X4D_Weights',\n",
              " 'ResNet',\n",
              " 'ResNet101_Weights',\n",
              " 'ResNet152_Weights',\n",
              " 'ResNet18_Weights',\n",
              " 'ResNet34_Weights',\n",
              " 'ResNet50_Weights',\n",
              " 'ShuffleNetV2',\n",
              " 'ShuffleNet_V2_X0_5_Weights',\n",
              " 'ShuffleNet_V2_X1_0_Weights',\n",
              " 'ShuffleNet_V2_X1_5_Weights',\n",
              " 'ShuffleNet_V2_X2_0_Weights',\n",
              " 'SqueezeNet',\n",
              " 'SqueezeNet1_0_Weights',\n",
              " 'SqueezeNet1_1_Weights',\n",
              " 'SwinTransformer',\n",
              " 'Swin_B_Weights',\n",
              " 'Swin_S_Weights',\n",
              " 'Swin_T_Weights',\n",
              " 'Swin_V2_B_Weights',\n",
              " 'Swin_V2_S_Weights',\n",
              " 'Swin_V2_T_Weights',\n",
              " 'VGG',\n",
              " 'VGG11_BN_Weights',\n",
              " 'VGG11_Weights',\n",
              " 'VGG13_BN_Weights',\n",
              " 'VGG13_Weights',\n",
              " 'VGG16_BN_Weights',\n",
              " 'VGG16_Weights',\n",
              " 'VGG19_BN_Weights',\n",
              " 'VGG19_Weights',\n",
              " 'ViT_B_16_Weights',\n",
              " 'ViT_B_32_Weights',\n",
              " 'ViT_H_14_Weights',\n",
              " 'ViT_L_16_Weights',\n",
              " 'ViT_L_32_Weights',\n",
              " 'VisionTransformer',\n",
              " 'Weights',\n",
              " 'WeightsEnum',\n",
              " 'Wide_ResNet101_2_Weights',\n",
              " 'Wide_ResNet50_2_Weights',\n",
              " '_GoogLeNetOutputs',\n",
              " '_InceptionOutputs',\n",
              " '__builtins__',\n",
              " '__cached__',\n",
              " '__doc__',\n",
              " '__file__',\n",
              " '__loader__',\n",
              " '__name__',\n",
              " '__package__',\n",
              " '__path__',\n",
              " '__spec__',\n",
              " '_api',\n",
              " '_meta',\n",
              " '_utils',\n",
              " 'alexnet',\n",
              " 'convnext',\n",
              " 'convnext_base',\n",
              " 'convnext_large',\n",
              " 'convnext_small',\n",
              " 'convnext_tiny',\n",
              " 'densenet',\n",
              " 'densenet121',\n",
              " 'densenet161',\n",
              " 'densenet169',\n",
              " 'densenet201',\n",
              " 'detection',\n",
              " 'efficientnet',\n",
              " 'efficientnet_b0',\n",
              " 'efficientnet_b1',\n",
              " 'efficientnet_b2',\n",
              " 'efficientnet_b3',\n",
              " 'efficientnet_b4',\n",
              " 'efficientnet_b5',\n",
              " 'efficientnet_b6',\n",
              " 'efficientnet_b7',\n",
              " 'efficientnet_v2_l',\n",
              " 'efficientnet_v2_m',\n",
              " 'efficientnet_v2_s',\n",
              " 'get_model',\n",
              " 'get_model_builder',\n",
              " 'get_model_weights',\n",
              " 'get_weight',\n",
              " 'googlenet',\n",
              " 'inception',\n",
              " 'inception_v3',\n",
              " 'list_models',\n",
              " 'maxvit',\n",
              " 'maxvit_t',\n",
              " 'mnasnet',\n",
              " 'mnasnet0_5',\n",
              " 'mnasnet0_75',\n",
              " 'mnasnet1_0',\n",
              " 'mnasnet1_3',\n",
              " 'mobilenet',\n",
              " 'mobilenet_v2',\n",
              " 'mobilenet_v3_large',\n",
              " 'mobilenet_v3_small',\n",
              " 'mobilenetv2',\n",
              " 'mobilenetv3',\n",
              " 'optical_flow',\n",
              " 'quantization',\n",
              " 'regnet',\n",
              " 'regnet_x_16gf',\n",
              " 'regnet_x_1_6gf',\n",
              " 'regnet_x_32gf',\n",
              " 'regnet_x_3_2gf',\n",
              " 'regnet_x_400mf',\n",
              " 'regnet_x_800mf',\n",
              " 'regnet_x_8gf',\n",
              " 'regnet_y_128gf',\n",
              " 'regnet_y_16gf',\n",
              " 'regnet_y_1_6gf',\n",
              " 'regnet_y_32gf',\n",
              " 'regnet_y_3_2gf',\n",
              " 'regnet_y_400mf',\n",
              " 'regnet_y_800mf',\n",
              " 'regnet_y_8gf',\n",
              " 'resnet',\n",
              " 'resnet101',\n",
              " 'resnet152',\n",
              " 'resnet18',\n",
              " 'resnet34',\n",
              " 'resnet50',\n",
              " 'resnext101_32x8d',\n",
              " 'resnext101_64x4d',\n",
              " 'resnext50_32x4d',\n",
              " 'segmentation',\n",
              " 'shufflenet_v2_x0_5',\n",
              " 'shufflenet_v2_x1_0',\n",
              " 'shufflenet_v2_x1_5',\n",
              " 'shufflenet_v2_x2_0',\n",
              " 'shufflenetv2',\n",
              " 'squeezenet',\n",
              " 'squeezenet1_0',\n",
              " 'squeezenet1_1',\n",
              " 'swin_b',\n",
              " 'swin_s',\n",
              " 'swin_t',\n",
              " 'swin_transformer',\n",
              " 'swin_v2_b',\n",
              " 'swin_v2_s',\n",
              " 'swin_v2_t',\n",
              " 'vgg',\n",
              " 'vgg11',\n",
              " 'vgg11_bn',\n",
              " 'vgg13',\n",
              " 'vgg13_bn',\n",
              " 'vgg16',\n",
              " 'vgg16_bn',\n",
              " 'vgg19',\n",
              " 'vgg19_bn',\n",
              " 'video',\n",
              " 'vision_transformer',\n",
              " 'vit_b_16',\n",
              " 'vit_b_32',\n",
              " 'vit_h_14',\n",
              " 'vit_l_16',\n",
              " 'vit_l_32',\n",
              " 'wide_resnet101_2',\n",
              " 'wide_resnet50_2']"
            ]
          },
          "metadata": {},
          "execution_count": 4
        }
      ]
    },
    {
      "cell_type": "markdown",
      "source": [
        "## Step 1: Loading the pre-trained models"
      ],
      "metadata": {
        "id": "iUkHxyD9Y6QE"
      }
    },
    {
      "cell_type": "code",
      "source": [
        "# first let's import needed libraries\n",
        "from torchvision.models.alexnet import alexnet\n",
        "\n",
        "# then let's download the weights from alexnet\n",
        "alexnet = models.alexnet(pretrained=True)\n",
        "alexnet"
      ],
      "metadata": {
        "colab": {
          "base_uri": "https://localhost:8080/"
        },
        "id": "WNcK9AD8Y_sm",
        "outputId": "21700173-ffb0-4208-a823-ba873e50b86f"
      },
      "execution_count": null,
      "outputs": [
        {
          "output_type": "stream",
          "name": "stderr",
          "text": [
            "/usr/local/lib/python3.10/dist-packages/torchvision/models/_utils.py:208: UserWarning: The parameter 'pretrained' is deprecated since 0.13 and may be removed in the future, please use 'weights' instead.\n",
            "  warnings.warn(\n",
            "/usr/local/lib/python3.10/dist-packages/torchvision/models/_utils.py:223: UserWarning: Arguments other than a weight enum or `None` for 'weights' are deprecated since 0.13 and may be removed in the future. The current behavior is equivalent to passing `weights=AlexNet_Weights.IMAGENET1K_V1`. You can also use `weights=AlexNet_Weights.DEFAULT` to get the most up-to-date weights.\n",
            "  warnings.warn(msg)\n",
            "Downloading: \"https://download.pytorch.org/models/alexnet-owt-7be5be79.pth\" to /root/.cache/torch/hub/checkpoints/alexnet-owt-7be5be79.pth\n",
            "100%|██████████| 233M/233M [00:03<00:00, 69.8MB/s]\n"
          ]
        },
        {
          "output_type": "execute_result",
          "data": {
            "text/plain": [
              "AlexNet(\n",
              "  (features): Sequential(\n",
              "    (0): Conv2d(3, 64, kernel_size=(11, 11), stride=(4, 4), padding=(2, 2))\n",
              "    (1): ReLU(inplace=True)\n",
              "    (2): MaxPool2d(kernel_size=3, stride=2, padding=0, dilation=1, ceil_mode=False)\n",
              "    (3): Conv2d(64, 192, kernel_size=(5, 5), stride=(1, 1), padding=(2, 2))\n",
              "    (4): ReLU(inplace=True)\n",
              "    (5): MaxPool2d(kernel_size=3, stride=2, padding=0, dilation=1, ceil_mode=False)\n",
              "    (6): Conv2d(192, 384, kernel_size=(3, 3), stride=(1, 1), padding=(1, 1))\n",
              "    (7): ReLU(inplace=True)\n",
              "    (8): Conv2d(384, 256, kernel_size=(3, 3), stride=(1, 1), padding=(1, 1))\n",
              "    (9): ReLU(inplace=True)\n",
              "    (10): Conv2d(256, 256, kernel_size=(3, 3), stride=(1, 1), padding=(1, 1))\n",
              "    (11): ReLU(inplace=True)\n",
              "    (12): MaxPool2d(kernel_size=3, stride=2, padding=0, dilation=1, ceil_mode=False)\n",
              "  )\n",
              "  (avgpool): AdaptiveAvgPool2d(output_size=(6, 6))\n",
              "  (classifier): Sequential(\n",
              "    (0): Dropout(p=0.5, inplace=False)\n",
              "    (1): Linear(in_features=9216, out_features=4096, bias=True)\n",
              "    (2): ReLU(inplace=True)\n",
              "    (3): Dropout(p=0.5, inplace=False)\n",
              "    (4): Linear(in_features=4096, out_features=4096, bias=True)\n",
              "    (5): ReLU(inplace=True)\n",
              "    (6): Linear(in_features=4096, out_features=1000, bias=True)\n",
              "  )\n",
              ")"
            ]
          },
          "metadata": {},
          "execution_count": 5
        }
      ]
    },
    {
      "cell_type": "markdown",
      "source": [
        "## Step 2: Specifying the image transformations"
      ],
      "metadata": {
        "id": "t7bJpCsqZzIP"
      }
    },
    {
      "cell_type": "code",
      "source": [
        "# let's define the image transformations\n",
        "\n",
        "# first, let's import needed libraries\n",
        "from torchvision import transforms\n",
        "transform = transforms.Compose([\n",
        "        transforms.Resize(256),\n",
        "        transforms.CenterCrop(224),\n",
        "        transforms.ToTensor(),\n",
        "        transforms.Normalize(mean=[0.485, 0.456, 0.406], std=[0.229, 0.224, 0.225])\n",
        "])"
      ],
      "metadata": {
        "id": "m9pRErIpZ4s3"
      },
      "execution_count": null,
      "outputs": []
    },
    {
      "cell_type": "markdown",
      "source": [
        "**Observation:**\n",
        "1. In line 5, we define the transformations on the image\n",
        "2. In line 6, we resize the image to 256x256\n",
        "3. In line 7, we crop the image to 224x224\n",
        "4. In line 8, we convert the image to Pytorch Tensor\n",
        "5. In line 9, we normalize the image by setting the mean and the std values."
      ],
      "metadata": {
        "id": "3GAVsfBObFgp"
      }
    },
    {
      "cell_type": "markdown",
      "source": [
        "## Step 3: Loading the libraries for pre-processing the image"
      ],
      "metadata": {
        "id": "Jjw6ifGAbouR"
      }
    },
    {
      "cell_type": "code",
      "source": [
        "# let's install and import libraries\n",
        "from PIL import Image\n",
        "from PIL.Image import core as _imaging"
      ],
      "metadata": {
        "id": "wBXjYNUBbuff"
      },
      "execution_count": null,
      "outputs": []
    },
    {
      "cell_type": "code",
      "source": [
        "!pip install --upgrade Pillow\n",
        "!pip install pillow"
      ],
      "metadata": {
        "colab": {
          "base_uri": "https://localhost:8080/",
          "height": 350
        },
        "id": "4LP2QSVNb8-M",
        "outputId": "84ac4adb-a4f5-4ae5-f873-238f814f7fe0"
      },
      "execution_count": null,
      "outputs": [
        {
          "output_type": "stream",
          "name": "stdout",
          "text": [
            "Looking in indexes: https://pypi.org/simple, https://us-python.pkg.dev/colab-wheels/public/simple/\n",
            "Requirement already satisfied: Pillow in /usr/local/lib/python3.10/dist-packages (8.4.0)\n",
            "Collecting Pillow\n",
            "  Downloading Pillow-9.5.0-cp310-cp310-manylinux_2_28_x86_64.whl (3.4 MB)\n",
            "\u001b[2K     \u001b[90m━━━━━━━━━━━━━━━━━━━━━━━━━━━━━━━━━━━━━━━━\u001b[0m \u001b[32m3.4/3.4 MB\u001b[0m \u001b[31m17.8 MB/s\u001b[0m eta \u001b[36m0:00:00\u001b[0m\n",
            "\u001b[?25hInstalling collected packages: Pillow\n",
            "  Attempting uninstall: Pillow\n",
            "    Found existing installation: Pillow 8.4.0\n",
            "    Uninstalling Pillow-8.4.0:\n",
            "      Successfully uninstalled Pillow-8.4.0\n",
            "Successfully installed Pillow-9.5.0\n"
          ]
        },
        {
          "output_type": "display_data",
          "data": {
            "application/vnd.colab-display-data+json": {
              "pip_warning": {
                "packages": [
                  "PIL"
                ]
              }
            }
          },
          "metadata": {}
        },
        {
          "output_type": "stream",
          "name": "stdout",
          "text": [
            "Looking in indexes: https://pypi.org/simple, https://us-python.pkg.dev/colab-wheels/public/simple/\n",
            "Requirement already satisfied: pillow in /usr/local/lib/python3.10/dist-packages (9.5.0)\n"
          ]
        }
      ]
    },
    {
      "cell_type": "markdown",
      "source": [
        "## Step 4: Loading the image (dataset)"
      ],
      "metadata": {
        "id": "SOv2Fq2-cmF2"
      }
    },
    {
      "cell_type": "code",
      "source": [
        "# frist, let's import needed libraries\n",
        "from PIL import Image\n",
        "from skimage import io, transform\n",
        "import matplotlib.pyplot as plt\n"
      ],
      "metadata": {
        "id": "vCmvOBb6cvmZ"
      },
      "execution_count": null,
      "outputs": []
    },
    {
      "cell_type": "code",
      "source": [
        "# next, let's upload the image dataset\n",
        "# from google.colab import files\n",
        "# files.upload()\n"
      ],
      "metadata": {
        "id": "5B5SfW5ydDWm",
        "colab": {
          "base_uri": "https://localhost:8080/",
          "height": 1000
        },
        "outputId": "e651d7ef-915d-4326-c83e-dda99ce50653"
      },
      "execution_count": null,
      "outputs": [
        {
          "output_type": "display_data",
          "data": {
            "text/plain": [
              "<IPython.core.display.HTML object>"
            ],
            "text/html": [
              "\n",
              "     <input type=\"file\" id=\"files-363ef89d-5fab-4d11-95ef-d648aa577bd2\" name=\"files[]\" multiple disabled\n",
              "        style=\"border:none\" />\n",
              "     <output id=\"result-363ef89d-5fab-4d11-95ef-d648aa577bd2\">\n",
              "      Upload widget is only available when the cell has been executed in the\n",
              "      current browser session. Please rerun this cell to enable.\n",
              "      </output>\n",
              "      <script>// Copyright 2017 Google LLC\n",
              "//\n",
              "// Licensed under the Apache License, Version 2.0 (the \"License\");\n",
              "// you may not use this file except in compliance with the License.\n",
              "// You may obtain a copy of the License at\n",
              "//\n",
              "//      http://www.apache.org/licenses/LICENSE-2.0\n",
              "//\n",
              "// Unless required by applicable law or agreed to in writing, software\n",
              "// distributed under the License is distributed on an \"AS IS\" BASIS,\n",
              "// WITHOUT WARRANTIES OR CONDITIONS OF ANY KIND, either express or implied.\n",
              "// See the License for the specific language governing permissions and\n",
              "// limitations under the License.\n",
              "\n",
              "/**\n",
              " * @fileoverview Helpers for google.colab Python module.\n",
              " */\n",
              "(function(scope) {\n",
              "function span(text, styleAttributes = {}) {\n",
              "  const element = document.createElement('span');\n",
              "  element.textContent = text;\n",
              "  for (const key of Object.keys(styleAttributes)) {\n",
              "    element.style[key] = styleAttributes[key];\n",
              "  }\n",
              "  return element;\n",
              "}\n",
              "\n",
              "// Max number of bytes which will be uploaded at a time.\n",
              "const MAX_PAYLOAD_SIZE = 100 * 1024;\n",
              "\n",
              "function _uploadFiles(inputId, outputId) {\n",
              "  const steps = uploadFilesStep(inputId, outputId);\n",
              "  const outputElement = document.getElementById(outputId);\n",
              "  // Cache steps on the outputElement to make it available for the next call\n",
              "  // to uploadFilesContinue from Python.\n",
              "  outputElement.steps = steps;\n",
              "\n",
              "  return _uploadFilesContinue(outputId);\n",
              "}\n",
              "\n",
              "// This is roughly an async generator (not supported in the browser yet),\n",
              "// where there are multiple asynchronous steps and the Python side is going\n",
              "// to poll for completion of each step.\n",
              "// This uses a Promise to block the python side on completion of each step,\n",
              "// then passes the result of the previous step as the input to the next step.\n",
              "function _uploadFilesContinue(outputId) {\n",
              "  const outputElement = document.getElementById(outputId);\n",
              "  const steps = outputElement.steps;\n",
              "\n",
              "  const next = steps.next(outputElement.lastPromiseValue);\n",
              "  return Promise.resolve(next.value.promise).then((value) => {\n",
              "    // Cache the last promise value to make it available to the next\n",
              "    // step of the generator.\n",
              "    outputElement.lastPromiseValue = value;\n",
              "    return next.value.response;\n",
              "  });\n",
              "}\n",
              "\n",
              "/**\n",
              " * Generator function which is called between each async step of the upload\n",
              " * process.\n",
              " * @param {string} inputId Element ID of the input file picker element.\n",
              " * @param {string} outputId Element ID of the output display.\n",
              " * @return {!Iterable<!Object>} Iterable of next steps.\n",
              " */\n",
              "function* uploadFilesStep(inputId, outputId) {\n",
              "  const inputElement = document.getElementById(inputId);\n",
              "  inputElement.disabled = false;\n",
              "\n",
              "  const outputElement = document.getElementById(outputId);\n",
              "  outputElement.innerHTML = '';\n",
              "\n",
              "  const pickedPromise = new Promise((resolve) => {\n",
              "    inputElement.addEventListener('change', (e) => {\n",
              "      resolve(e.target.files);\n",
              "    });\n",
              "  });\n",
              "\n",
              "  const cancel = document.createElement('button');\n",
              "  inputElement.parentElement.appendChild(cancel);\n",
              "  cancel.textContent = 'Cancel upload';\n",
              "  const cancelPromise = new Promise((resolve) => {\n",
              "    cancel.onclick = () => {\n",
              "      resolve(null);\n",
              "    };\n",
              "  });\n",
              "\n",
              "  // Wait for the user to pick the files.\n",
              "  const files = yield {\n",
              "    promise: Promise.race([pickedPromise, cancelPromise]),\n",
              "    response: {\n",
              "      action: 'starting',\n",
              "    }\n",
              "  };\n",
              "\n",
              "  cancel.remove();\n",
              "\n",
              "  // Disable the input element since further picks are not allowed.\n",
              "  inputElement.disabled = true;\n",
              "\n",
              "  if (!files) {\n",
              "    return {\n",
              "      response: {\n",
              "        action: 'complete',\n",
              "      }\n",
              "    };\n",
              "  }\n",
              "\n",
              "  for (const file of files) {\n",
              "    const li = document.createElement('li');\n",
              "    li.append(span(file.name, {fontWeight: 'bold'}));\n",
              "    li.append(span(\n",
              "        `(${file.type || 'n/a'}) - ${file.size} bytes, ` +\n",
              "        `last modified: ${\n",
              "            file.lastModifiedDate ? file.lastModifiedDate.toLocaleDateString() :\n",
              "                                    'n/a'} - `));\n",
              "    const percent = span('0% done');\n",
              "    li.appendChild(percent);\n",
              "\n",
              "    outputElement.appendChild(li);\n",
              "\n",
              "    const fileDataPromise = new Promise((resolve) => {\n",
              "      const reader = new FileReader();\n",
              "      reader.onload = (e) => {\n",
              "        resolve(e.target.result);\n",
              "      };\n",
              "      reader.readAsArrayBuffer(file);\n",
              "    });\n",
              "    // Wait for the data to be ready.\n",
              "    let fileData = yield {\n",
              "      promise: fileDataPromise,\n",
              "      response: {\n",
              "        action: 'continue',\n",
              "      }\n",
              "    };\n",
              "\n",
              "    // Use a chunked sending to avoid message size limits. See b/62115660.\n",
              "    let position = 0;\n",
              "    do {\n",
              "      const length = Math.min(fileData.byteLength - position, MAX_PAYLOAD_SIZE);\n",
              "      const chunk = new Uint8Array(fileData, position, length);\n",
              "      position += length;\n",
              "\n",
              "      const base64 = btoa(String.fromCharCode.apply(null, chunk));\n",
              "      yield {\n",
              "        response: {\n",
              "          action: 'append',\n",
              "          file: file.name,\n",
              "          data: base64,\n",
              "        },\n",
              "      };\n",
              "\n",
              "      let percentDone = fileData.byteLength === 0 ?\n",
              "          100 :\n",
              "          Math.round((position / fileData.byteLength) * 100);\n",
              "      percent.textContent = `${percentDone}% done`;\n",
              "\n",
              "    } while (position < fileData.byteLength);\n",
              "  }\n",
              "\n",
              "  // All done.\n",
              "  yield {\n",
              "    response: {\n",
              "      action: 'complete',\n",
              "    }\n",
              "  };\n",
              "}\n",
              "\n",
              "scope.google = scope.google || {};\n",
              "scope.google.colab = scope.google.colab || {};\n",
              "scope.google.colab._files = {\n",
              "  _uploadFiles,\n",
              "  _uploadFilesContinue,\n",
              "};\n",
              "})(self);\n",
              "</script> "
            ]
          },
          "metadata": {}
        },
        {
          "output_type": "stream",
          "name": "stdout",
          "text": [
            "Saving brid.jfif to brid.jfif\n"
          ]
        },
        {
          "output_type": "execute_result",
          "data": {
            "text/plain": [
              "{'brid.jfif': b'\\xff\\xd8\\xff\\xe0\\x00\\x10JFIF\\x00\\x01\\x01\\x00\\x00\\x01\\x00\\x01\\x00\\x00\\xff\\xdb\\x00\\x84\\x00\\t\\x06\\x07\\x0f\\x0f\\x0f\\x0f\\x0f\\x0f\\x0f\\x0f\\x10\\x0f\\x0f\\x0f\\x0f\\x0f\\x0f\\x0f\\x0f\\r\\x0f\\x0f\\x0f\\x0f\\x0f\\x15\\x11\\x16\\x16\\x15\\x11\\x15\\x15\\x18\\x1d( \\x18\\x1a%\\x1d\\x15\\x15!1!%)+...\\x17\\x1f383-7(-.+\\x01\\n\\n\\n\\x0e\\r\\x0e\\x1a\\x10\\x10\\x1a-%\\x1d\".---2------+-/++/------.--0---+-----+-5--/--------\\xff\\xc0\\x00\\x11\\x08\\x00\\xc2\\x01\\x03\\x03\\x01\"\\x00\\x02\\x11\\x01\\x03\\x11\\x01\\xff\\xc4\\x00\\x1c\\x00\\x01\\x01\\x00\\x02\\x03\\x01\\x01\\x00\\x00\\x00\\x00\\x00\\x00\\x00\\x00\\x00\\x00\\x01\\x04\\x06\\x03\\x05\\x07\\x02\\x08\\xff\\xc4\\x00>\\x10\\x00\\x01\\x04\\x00\\x03\\x05\\x05\\x05\\x06\\x04\\x06\\x03\\x01\\x00\\x00\\x00\\x01\\x00\\x02\\x03\\x11\\x04\\x12!\\x051AQa\\x06\\x13\"q\\x81\\x072B\\x91\\xa1\\x14#Rb\\xb1\\xc13\\x92\\xa2\\xd1CSrt\\xb3\\xe1\\x82\\xb2\\xf04\\xff\\xc4\\x00\\x1a\\x01\\x01\\x01\\x00\\x03\\x01\\x01\\x00\\x00\\x00\\x00\\x00\\x00\\x00\\x00\\x00\\x00\\x00\\x01\\x02\\x03\\x04\\x05\\x06\\xff\\xc4\\x00-\\x11\\x01\\x00\\x02\\x02\\x01\\x03\\x02\\x06\\x01\\x03\\x05\\x00\\x00\\x00\\x00\\x00\\x00\\x01\\x02\\x03\\x11!\\x04\\x1212A\\x05\\x13\"Qaq\\xb1\\x91\\xa1\\xe1\\x14#B\\x81\\xc1\\xff\\xda\\x00\\x0c\\x03\\x01\\x00\\x02\\x11\\x03\\x11\\x00?\\x00\\xf4\\xc5Q\\x17[\\x9cDU\\x04U\\x11\\x01\\x15D\\x04D@DU\\x04U\\x11\\x01\\x15DTER\\x90D]\\x06\\xdb\\xed\\x8e\\x0f\\n\\\\\\xcc\\xc6i[\\xbe8\\xa8\\x86\\x9eNy\\xf0\\xb7\\xcbS\\xd1jX\\xafiX\\x82~\\xee\\x18cm\\x9a\\xcf\\x9eG\\x1d,\\x0b\\xb1D\\x8e\\x8bM\\xf3\\xd2\\xbcL\\xae\\x9e\\x98\\x8b\\xcb\\x9b\\xed\\x1f\\x14\\x0f\\x89\\xb0\\x1d\\xc7\\xf8n\\xdcxh\\xe5\\xb0\\xec\\x0fh\\x18|A\\xc93L\\x07A\\xdej\\xe8sr&\\xad\\xbd7\\x8e\\xab\\x18\\xea1\\xcf\\xbbn>\\x9f&M\\xf6Vg_f\\xe0\\x885\\x00\\x82\\x08 \\x10F\\xa0\\x83\\xb8\\x82\\x8b|N\\xda\\xb5\\xa1EQ\\x11\\x11U\\x10\\x14U\\x10DDA\\x11TA\\x11\\x15U\\x04D@UEP\\x11\\x11\\x01TDQ\\x11\\x14\\x05Q\\x10\\x11\\x11\\x01i\\xde\\xd1{Hp\\xb1\\xb7\\r\\x0b\\xcb1\\x13\\x0b/\\x1a\\x18\\xe2\\xba4\\xedr\\xbd\\xdb\\x87\\x91\\xdd\\xa1]\\xf7h\\xb6\\xdcx\\x18{\\xc7\\xd1{\\x8eHc$\\xfd\\xe4\\x87p\\xd3su\\x16\\x7fr\\x17\\x8ab\\xb1\\xb2\\xe2$|\\x8f2:Y\\x83\\x9c\\xf0\\\\\\x1e\\xd7=\\xbc\\x00#AZUn\\x03r\\xe5\\xeasvGlyV\\x0ew\\x17\\xefu\\x1ft\\xc8G\\xbc,\\x86\\x9d\\x08\\x07\\xf5\\xb5\\x8f\\x8c\\xc7\\xb5\\xb9\\x9a=\\xef\\x10\\xd0\\x96\\xe5\\xad\\xda]s\\xf2Y\\xb1\\x00E\\xb7p\\xb0\\x7f\\x89Y\\x81\\xcc\\xc23h\\r\\x13\\xf5Z\\xfe=\\xa4<\\x804\\x1a\\x0e\\xa0q\\\\8\\xab\\x16\\xb7,\\xaa\\xcd\\xc2\\xe3\\x03\\x9d\\xe2\\xd4X\\xf0\\x12um\\xee\\x07\\x82\\xd8\\xa1\\xc6N\\xf9\\xda01\\x91\\t\"\\xa2\\x0fvV\\xe8\\x01l\\x8d\\xf7\\\\\\x0e\\xa0\\xde\\xfb\\xb5\\xa7`\\xe2%\\xe2\\xb9\\x8b\\xe7K`\\x8a\\x19\\xa3\\x05\\xf1\\xb8\\x8f\\x01k\\xdc\\xda\\xd0\\x1b\\x05\\xbeZ+\\x96;,\\xf7z[\\xe2\\xcf\\x860\\xcc\\xf6\\xda<}\\xa7\\xfc\\xbd[\\xb3x\\xa3\\x04\\xd2\\xc4\\xd9\\x9c\\xfc?{Q\\xc4\\xe3\\x9b\\xb9\\x1b\\x88i<.\\xfd\\x16\\xe6\\xbc\\xa7\\xb0\\x1b-\\xc6#+\\xa4w\\x8d\\xce\\rn\\x95\\x94P$\\xf1\\xe1\\xf2\\xf3^\\xa5\\x03\\xad\\xa0\\xf4\\xa3\\xe6\\x16\\xbf\\x85\\xe7\\x9f\\x9b\\x93\\x15\\xad\\xbfx\\xff\\x00\\xd8\\xfe\\x1c\\xdf\\x15\\xc7\\x11h\\xb4s>&~\\xeeE\\x15E\\xed\\xbc\\x94DDAET@QTA\\x11TA\\x11\\x11T\\x15D@DU\\x01\\x11\\x11DET\\x04D@DU\\x04]~\\xdd\\xdb1`\\xa22Jm\\xd4{\\xb8\\x81\\x01\\xf2\\xb8p\\x17\\xb8n\\xb2t\\x0b\\xaf\\xed_k!\\xd9\\xed-\\xae\\xf7\\x10E\\xb2\\x16\\x9fv\\xf7:C\\xf0\\xb7Q\\xd4\\xf0\\xe6\\xbc\\xa7\\x1b\\x8e\\xc4bd3\\xce\\xe9\\x1f)\\xe3\\x93%2\\xfd\\xd6\\r\\xc1\\xa3\\x97\\xee\\xb9\\xf3\\xe7\\x8aG\\x1eV!\\xcf\\xb7\\xb6\\xcc\\xd8\\xa9;\\xe9\\r\\xe6\\xdc\\xc6\\xd3\\xa3dcsZ\\t\\xa3\\xbf]A+\\r\\x8e\\x0fm6\\xf5%\\xf1\\xe5m7\\xbc\\x1c\\x1a\\x1d\\xee\\x9f\\xcbtu_mco@Z\\xee\\x1a\\x068\\x8e\\xad:\\x1f5\\x1dd\\xdd6\\xc7\\xc4\\x06\\x87\\xf2<p\\xf3^U\\xa7\\xbay\\xf2\\xbaadsi\\xed\\xab~w\\x07\\x01\\xe1:\\x82X\\xe6\\x1d\\xc2\\xaf\\x7f\\x15\\x8d.\\x1d\\xae\\x14\\x1b\\xe2\\x16\\\\h\\xf8\\xba\\xf5\\x02\\xcf\\x9f\\xa1]\\xdcb7\\xe7iin\\xe3Y\\xcd\\xb5\\xdb\\x8f\\xae\\xbb\\xf9\\x15\\xc1\\x8c\\xc2xKM\\x970\\x92\\xd7\\n\\xb70\\xb0\\xb76\\xbclk^i\\x16\\xe7\\xf2L\\xeb\\x97X!k\\t-\\x14F\\x95f\\xc1\\xd4\\xfe\\xdfU\\x9f\\x80i\\x91\\xe1\\xa0\\xd1u\\xb5\\xda\\xe8\\x00\\xd2\\xec\\xf9\\x1f\\x9a\\xee\\xf6\\x0faq\\x98\\xcf\\x1c\\x84\\xe1\\xe1\\xcc\\xcdei\\xcd+\\t\\x16X\\xd2/\\xdd\\x03\\x7f\\x1a\\xea\\xb7Q\\xec\\xdbg\\xe5n\\xb8\\x80\\xf0I22r\\xd7<\\x93z\\x8a#\\xe4\\xb7\\xff\\x00\\xa6\\xcb\\x92\\xbf\\x9f\\xca\\xd6cq\\xdd\\xe1\\xd2E \\xc3\\xbe\\'\\xb5\\xd5\\x13\\x9a\\xd8\\x9d\\xe3\\x14\\x1c\\xdd\\x18\\xe3\\xd7x\\xfeU\\xbelw\\x93\\x19\\xbf\\xc5\\xfb\\x05\\xd2c{\\'\\x84\\x83\\t#X\\xc7=\\xe5\\xcc\"I^d\\x96\\xfb\\xc1Mo-\\xf5@j\\xb6\\r\\x99\\x871\\xc4\\xd6\\xbb\\xdf>\\'\\xff\\x00\\xa8\\xf0\\xf4\\xd0-}\\x1f\\xc3g\\x06x\\xc93\\xb9\\xd6\\xa5\\xd7\\x9f\\xa9\\x8c\\x98\\xf5\\x1fvJ*\\xa2\\xf6\\x9c\"\\x8a\\xa2\\x08\\x88\\x88\"*\\x88\"\" \\x8a\\xa2*\\x82\"\\xa8\\x08\\x8a\\xa2\\xa2\\xa8\\x8a\\x02\" \"\\xab\\x1f\\x1f\\x8d\\x8b\\x0f\\x19\\x96g\\xb68\\xdb\\xc4\\xf1<\\x1a\\x06\\xf2z\\x04\\x19\\x1dyjI\\xdc\\x02\\xd1;M\\xdb\\xf6\\xb74;?,\\xaf\\xdc\\xecK\\xb5\\x89\\x86\\xeb\\xc0>3\\xd7w\\x9a\\xd6;[\\xdb\\x19\\xb1\\xd9\\xe1\\x8c\\x18\\xb0\\xdf\\x80\\xba\\x9d+o|\\xb5\\xc3\\xf2\\x83\\\\\\xedk\\x98H\\x86\\xb6\\x1bu\\xa6F\\x17\\x1f\\x99\\xd0.\\\\\\xbdF\\xa3\\xe9g\\x11\\xa7\\xdeb\\xf7\\xbd\\xf2}\\xe4\\x8fqs\\xde\\xf7\\xbeG9\\xc7\\x9d,\\x98\\xd8[\\xfe\\x18\\xd7\\xa3E\\x0et\\\\\\xab\\xb4\\x039p\\x1c\\xde\\xea\\x1eT\\xdd>\\xaaE\\x1b\\x1bd;6\\x94KZ\\xd3^\\xb4J\\xf3\\xed}\\xf3&\\xdc\\xcfn\\x80\\x16\\xef:X`\\x1e\\x94\\xb0\\xb1\\x13\\x16Vf\\x9a\\xba\\x049\\xb9\\xb4\\xe5\\xaa\\xe4\\x96k\\xd1\\xaf.\\x1f\\x84\\xb4\\x1f\\xaa\\xc1|`\\x9dA\\xd7[-\\x04_\\xa6\\xe5\"~\\xec\\xf1v\\xf7G\\xcc\\xf1\\xf8v=\\xe4o\\x01\\xd9\\x80{4k\\xb5\\x02@G\\xb8A\\xe3W\\xa7\\x92\\xdb\\xbb\\x03\\x80n*l\\xf20=\\x98o\\x19\\x0e\\x16\\x04\\xa7\\xdd\\x04z\\x93\\xe8\\xb4(a.\\xd07\\xfb\\xff\\x00R\\xd9;)\\xb6\\xa4\\xc0J\\xd3\\x98w.p\\x13\\xc5d\\x92\\xdd\\xd9\\x80\\xdc\\x1c/\\x87\\x92\\xcb\\x17l^;\\x93$Vg\\xe9\\xf0\\xf6R\\x8a\\x02\\r\\x10A\\x04\\x02\\x08\\xdcG5W\\xb2\\xd4\\x88\\xaa \\x88\\x88\\x82\"\\xaa \"\"\\x08\\x8a\\xa8\\x82\"\\xb4\\x88\"\" \\xa8\\x88\\x82\\xa2\"\\x02\"\\xa8\"\\xa8\\x94\\x83\\x1bic\\xa3\\xc3D\\xf9\\xa54\\xc6\\x0b;\\xad\\xc7\\x83GRt^#\\xda-\\xb7>:s$\\xd9\\xb2\\xb4\\x91\\x0cl\\xbe\\xee&t\\xe2O7q\\xf2\\xa06\\x0fi\\xdbc\\xbf\\xc4\\x8c#I1a\\x8f\\x884\\xe8\\xecA\\x1a\\x93\\xfe\\x90@\\x1dK\\x96\\x98\\x1a\\xf6[K\\xc0\\xba\\xd7{\\xc0\\xe5\\xd1qg\\xcb\\xb9\\xed\\x86q\\xc0\\xd8\\xc6\\xe2\\xd05\\xb1\\x9c\\xdd\\xd7\\x00\\x06\\xf5\\x9d\\x99\\xc0\\x02C\\x88\\xe0\\xd0\\x00\\xaf6\\xfe\\xcb\\x8cCTs\\x10\\xe2F\\xb4,\\x8f\\xdb\\xc9#|\\x83J\\x0e\\x1f\\x88\\xba\\xbe\\x94\\xbc\\xfc\\x997\\xe0\\xf2\\xe7f.\\xf4,x=Z\\xbes\\xbf\\x86Z\\xfc\\xc6\\x88\\xe8\\xb8\\xa6&\\xf4&\\xce\\xf2\\x1b\\x99\\xab\\xe9\\x83PK\\x8b\\x87\\xe5\\x14=F\\xf5\\xab\\x84\\xe1\\xf3\\xde\\x02\\x08\\x91\\xae\\x1a\\xf1i\\xaf0W\\xc3b6r\\xddq\\x0e\\xb0|\\xac\\x82\\xb2\\x1d\\x17\\x16\\x87W\\x01\\x9b\\xf6<\\x10\\xb6\\xf5pi:hE\\x1f\\x9a\\xbd\\xe2\\x08\\xc6\\xf7\\x97\\n\\xdcs\\xe8\\xb9\\x18\\xe6\\xeb\\xe3\\xdfcS{\\xf5\\xae\\xa3\\xfe\\x97\\xd6\\xb5\\xfb\\x02\\xa07Y\\xb2\\x91cx-\\xa28\\xd2\\x95\\xb7t\\x93/c\\xec\\xac\\xd9\\xf08g]\\xd4}\\xdd\\xef\\xbe\\xec\\x96_\\xf4\\xae\\xd5t\\xfd\\x8f\\x83\\xbb\\xd9\\xf8V\\xd5\\\\e\\xf5\\xd1\\xefs\\xc7\\xfe\\xcb\\xb8_AOL1\\x91\\x11\\x16@\\xa2\\xa8\\x82\"\"\\x01QTA\\x11\\x11\\x04DD\\x11TD\\x04EP\\x11\\x11\\x01TD\\x05\\x8d\\xb51\\xa3\\x0f\\x87\\x9awj!\\x8d\\xf2W2\\x06\\x83\\xd4\\xd0\\xf5YKR\\xf6\\x91\\x8c\\xcb\\x85d\\x03~\"O\\x17H\\xa3\\xf1\\x1f\\xea\\xc8\\x167\\xb7mfV\\x1eSo\\x95\\xe1\\xce\\xd1\\xcey\\x92Bj\\xdcN\\xb6z\\x92I\\xf5\\\\\\xb3D\\xcb\\xba\\xf1n\\x07\\x88\\xea\\xb9\\x9c\\xc6\\x91\\x97.\\x9f\\xafU\\x8ca7\\xe1$\\x0e#x\\xf4\\xb5\\xe0_4L\\xf0ogs\\xa6\\xafy\\xe2+-\\xdfM\\x14k\\rQs\\x8f=\\x06\\xe5\\xcc\\x05s\\'\\xaa\\x9a\\x8dN\\xabWt\\xcayq3\\xc3\\xa6\\xff\\x00.\\x0b\\x95\\xaf\\xdf\\xfa\\xae0u+\\xec\\x10\\xa5\\xac\\xb1\\x0eh\\xdcN\\x9b\\xba\\xaf\\x9c\\xbb\\xef_MUd\\x9d\\n\\x99\\xce\\xbaX\\xe7k\\x1e\\xe9Tm\\x0ft\\x9f\\xa9\\xae\\xab\\x9c\\x07\\x10\\xd2\\xd0\\xd2l\\n\\x04\\x9b\\x07\\x97\\xd3E\\xc1\\x9c\\x13\\x94\\xef\\xe5\\xc7\\xd1l\\xdd\\x87\\xd9}\\xfe)\\x97f8O|\\xfb\\xd7\\xdd>\\x06\\xfa\\xbb\\xe8\\n\\xcf\\x14M\\xaf\\x15\\x8f2\\x92\\xf4\\xfc\\x0e\\x1f\\xba\\x86(\\xbf\\xcb\\x8a8\\xff\\x00\\x95\\xa0~\\xcb\\x9dU\\x17\\xd2\\xa0\\xa2\\xa8\\xa8\\x88\\xaa\\x88\"*\\x88\"\" \\x88\\x88\\x82\"*\\x82\"\"\\n\\x88\\x11\\x14U\\x11\\x01\\x15@\\x10|K+X\\xd7=\\xe45\\xad\\x05\\xceq\\xdc\\x00^O\\xda\\xad\\xb1\\xf6\\xd9\\xb3\\x8bll\\xf0\\xc6\\xdd=\\xdeg\\xa9]\\xdfn\\xb6\\xefz\\xe3\\x86\\x8c\\xd4Q\\xbb\\xef_\\xfed\\x83\\xe1\\x1c\\xc0\\xfd|\\x96\\x98\\xe7r\\x1a/\\x0b\\xaf\\xeb;\\xad\\xf2\\xe9\\xe2<\\xfe\\xd8\\xcc\\xbe\\xa1:\\xe9\\xc7\\x89X\\xaf\\xd4\\x9a\\xb0\\x17#\\xa4\\xaf\\xefuK\\x17\\xed\\xd1\\x83\\x94\\xb8\\x03\\xd7w\\xcf\\x82\\xe2\\xa5ooLm+\\xad\\xb9CU+\\x8c\\xe3\\xe0\\x1b\\xe5e\\xf46\\x07\\xcbz\\xe5\\x13\\xc5\\xa1\\xef\\x18\\x01\\xe2\\\\5\\xf4I\\xaeH\\xff\\x00\\x8c\\xff\\x00Il\\xd1\\x90\\x1d\\xe1V\\xc6\\x06\\xb5\\xe8\\xbed\\xc6\\xc0\\xdd\\xf2\\x0e\\x81\\xbe#\\xe6kr\\xc7\\x93j\\xb2\\xfc\\r.\\x1c\\xcd\\xb5\\xbf\\xdc\\xab\\x18\\xb3Lo\\xb6u\\xfd\\x1b1a\\xbe[vc\\x8d\\xcb5\\xac\\xd3\\xa9\\xfd\\x15\\xee\\xf4\\xe9\\xc3\\xa9XGl\\x0f\\xc1\\xe7\\xe2\\xd1n\\x9d\\x93\\xec\\x9c\\xf8\\xb0\\xd9\\xb1 \\xc1\\x874Z\\xdf\\xf1\\xe5\\x1c\\xc7\\x064\\xf3\\xab<9\\xab\\x8f\\xa6\\xcd\\x92u\\x10\\xdd\\x9b\\xa0\\xcf\\x86\\xbd\\xd9#_\\xf7\\x0e\\x93e\\xec\\x99\\xf1/\\xc9\\x04e\\xee\\x1e\\xf1\\xd05\\xb7\\xc5\\xce:\\x05\\xea\\xbd\\x9a\\xd8\\x8d\\xc1C\\x92\\xc3\\xa4y\\xcd+\\xc6\\xe2\\xee\\r\\x1f\\x94p\\xf5<Wa\\x83\\xc2G\\x03\\x1b\\x1cL\\x0ccw5\\xa3\\xeaO\\x13\\xd4\\xaee\\xed\\xf4\\xbd\\x15p\\xfdS\\xcd\\x9ch\\x88\\x8b\\xb4\\x02\\xb4\\xa2\\x94\\x83\\xea\\x94\\xa4U\\x04\\xa5)}(P|\\xd2R\\xa8\\x82(\\xaa \\x88\\x88\\x82\\x05TU\\x15Q\\x11\\x01U\\x15@]Wi\\xf6\\xa8\\xc2a\\x9f\\'\\xf8\\x8e\\xfb\\xb8\\x87\\xe7#\\x7f\\xa0\\xb3\\xe8\\xbbU\\xc5>\\x1a9(I\\x1b\\x1e\\x06\\xe0\\xf65\\xc0|\\xd6\\x19\"\\xd3Y\\x8a\\xcf#\\xc5equ\\xb9\\xdc\\xac\\x92\\xba\\xacN\\xd6\\x8d\\xa3\\xc2s\\xf2\\xafw\\xe7\\xc5z\\xa7n\\x99\\x85\\x87\\x0cp\\xecd1\\xbf\\x14u\\xf0\\xb5\\xa7\\xba\\x8d\\xcds\\x8f\\x95\\xe4\\x15\\xf9\\x97\\x8c\\xf6\\x97\\x14\\xc9\\\\\\xc8\\x98-\\x91\\xf4\\xdd\\xd3\\xcc\\xef>\\x83\\x82\\xf1qt1\\\\\\xd1K\\xfd^\\xfcq\\x10\\x93W\\x06+h=\\xfb\\xcd\\x0eM\\xfe\\xeb\\x12\\x9cxh\\xb9\\xe2\\xc3\\xb1\\xa2\\x83E\\xf3\\xa5\\xcc\\xc6\\x0b\\xf1\\x13\\xfe\\x96\\xef_C\\x15\\xa6*\\xea#Q\\xf8I\\xd5a\\x89\\x16\\x1d\\xce4\\x01\\'\\x90\\xd4\\xac\\xf8vL\\x84\\xf8\\xa9\\xbed\\x1f\\xd1v8X\\xcb[\\xb8F\\xde_\\x13\\x96Nz\\xe7\\xe5\\xf1\\x11\\xcf\\xf2\\x8e\\xa5y\\x99\\xbe!h\\x9dQ\\xa7\\xe6Z|1\\xa0\\xd9\\xacg\\xe6;\\xf5\\xe1\\xd6\\xb8.\\xbb\\x11\\xe1q\\x1c\\x8e\\x9e\\\\\\xd7k\\x88\\x94\\x86\\x9a\\xdew\\r\\xe2\\xf9\\x9b\\xf7\\x8f\\x9e\\x9d\\x16\\x19\\xc2\\x82\\tu\\xb9\\xce\\xde\\xe3\\xbc\\x95\\xc3l\\xfd\\xfc\\xdev\\xf4~\\x1d\\xd6d\\xe9-kG;\\x86\\x7fa\\xf6[\\xb1x\\xec+w1\\xb36W\\xd8\\x04\\x18\\xe3\\xf1\\xb8k\\xcf-z\\xaf\\xd0Ey\\xf7\\xb2\\x9d\\x8f\\xdd\\xb6lA\\x1c\\xa1\\x8fO\\'<\\x8f\\xe9\\x1e\\x85z\\x02\\xf4\\xfaH\\xff\\x00o\\x7fv\\x19\\xfa\\x8c\\x99\\xed\\xdfy\\xd8\\x88\\x8b\\xa9\\xa0QTA\\x11U\\x10\\x15DP\\x11\\x11Q\\x14_J \\x8a*\\xa2\\x02\" \\xf9UETQU\\x15@UDAP(\\xb5/i=\\xa9;?\\n\\x1b\\t\\xacV#3!:\\x1e\\xed\\xa3\\xde\\x96\\xbaX\\x03\\xa9\\x1c\\x8a.\\x9e\\x7f\\xed\\x0b\\xb4\\x82M\\xa3\\x88\\r\\x19\\xcc\\x0c\\x18X\\t\\xd5\\xb1\\x90sK%q%\\xd4\\x07\\x97\\xa2\\xd2\\xf0l>\"[\\xbc\\xderH \\xf1\\xf3\\\\\\x98&39~#\\xbcppw\\xb8A\\x90\\xb8\\x9b\\xbf\\x16\\xfe?5\\x94\\xe7w\\xa7,Q\\x90\\xd1\\xa0\\x19\\xb3\\x1f\\xfc\\x9d\\xa0\\xf4\\x1f5\\xaa\\xbd\\x98\\xed7\\x9f$\\xda=\\x98\\xe5\\xd7\\xb9d\\xec\\xc2\\\\\\xfc\\x91\\xb5\\xcfy\\xbd\"a\\x96B\\x00\\xb3\\xbbA@\\x12\\xb3\\xc7g$\\xca3\\x0c\\xceqhc@\\xb1gW\\x13\\xc0\\x00>\\xab\\xd2\\xbd\\x99\\xf6u\\xb0\\x19q\\x0en\\xa4\\x08\\x99|\\xbe#\\xeb\\xfb\\xd7\\x05\\xcdn\\xbb\\x1fQx\\xc5I\\xde\\xdb\\xaf\\xd1\\xccb\\xf9\\x97\\x98\\x8d\\xf8\\x8fyy\\x96\\x13\\x14\\x1e\\xfc\\xb9\\\\\\xd1\\x9b+\\x9eH\\xcd|\\x87%\\xb3v{\\xb3?m\\x90\\xb692\\x9c\\xa6K}\\xb85\\xa1\\xe1\\xbb\\xb8\\xbb~\\xa5k\\xfbJ1\\x86\\xc6\\xe3! S1\\x12\\xd7\\x93\\\\h\\xfc\\xa9z?\\xb3l1tX\\x8cK\\\\,\\xc6 h\\x1c\\x1e\\x01y>\\xb9\\x9b\\xf2\\\\\\x94\\xc7\\xdd\\x93\\xb6c\\x8fv\\xa8\\xc7\\x11^!\\xe7\\x1bB8\\xa3\\xc6J\\xc68\\xbd\\x91\\xbc\\xb1\\xaf5\\xe2-\\xd0\\xbb\\xd4\\x83])s\\xe1\\xf0\\xce\\x91\\xc1\\x8cas\\xdeC\\x18\\x07\\xc4\\xe7\\x1a\\x03\\xea\\xb80\\xd82ds\\\\<Ms\\x83\\x87\\x1c\\xc0\\x9b\\x1f5\\xe8^\\xce6M\\xc8\\xfcC\\xc7\\xf0\\xbc1\\x827<\\x8dO\\x98\\x17\\xf3\\\\\\xb1O\\x9b\\x9a)\\x1c0\\xb3v\\xd9\\x18\\x06\\xe1\\xb0\\xf1@\\xdd\\xd1\\xb04\\x9f\\xc4\\xed\\xeew\\xa9$\\xac\\xb4E\\xf4Q\\x11\\x11\\xa8Q\\x11\\x15\\x04DT\\x11\\x11\\x10UDP\\x11\\x11PDQ\\x01E\\xf4\\xa2\\x0f\\x9aEUEq\\xa2\"\\x8a\\xa8\\x88\\x88\\xa8\\xa2\\xa8\\xaa\\x17\\x83{A\\xda.\\xc4\\xed<Fv\\xbb\\xee_\\xf6hG&\\xb0\\xf0mjI.;\\xf8\\xafr\\xc7b\\xd9\\x04n\\x95\\xe7\\xc2\\xd1\\xbb\\x8b\\x8f\\x06\\x8e\\xa5y6\\xda\\x9b\\xed\\x18\\x87\\xe2%\\xac\\xfa\\x80\\x06\\xe8\\xdb\\xf8G]\\x06\\xab\\x87\\xac\\xea\\xeb\\x87Q\\xee{5h6{Z3K\\xab\\x8f\\xc3w\\xa7\\xe6<|\\xb7.\\xf7bl\\xfc\\xee\\x07-1\\xba\\xee\\xa1\\xe4\\xb8vN\\x0f\\xed3\\x12\\xe3\\xe0g\\x89\\xc3\\x9d\\xee\\x0biak\\x054P\\x03\\x82\\xf9\\xde\\xbb\\xac\\xbc\\xfd;\\xe7\\xf8#\\x13%\\xb1\\xdeV\\xb4Yu\\x00<\\xce\\x81oX\\x0c0\\x86&F>\\x11\\xa9\\xe6\\xed\\xe4\\xfc\\xedk\\x9d\\x97\\xc2g\\x90\\xca\\xefv=\\xdd^G\\xec?P\\xb6\\xa0\\xbd\\x1f\\x81t\\xbd\\x98\\xe75\\xbc\\xdb\\xc7\\xeb\\xfc\\xcf\\xf0\\xce\\xf6\\x99\\x97\\x8a\\xfbQ\\xc1\\xb6\\r\\xa5$\\xacp=\\xecl\\x96F\\x83\\xacn\\xac\\xa70\\xe4r\\x83\\xeb\\xe4\\xb06\\x17k]\\x06V\\xc2\\x1c\\x1f\\xad\\x88\\xe8^\\xbc\\xb7\\x1e\\x1b\\xd6\\xc9\\xd8=\\x88\\xdcn?\\x1f\\x88\\xda\\x11\\td\\x82`\\xca\\x90\\xb1\\xcdn >\\xcd\\xb7\\xde\\xd2\\x9a\\x06\\x99H\\xe7B\\xb8\\xbbw\\xb0\\xa2\\xc0b\\x1a\\xfc$B(\\xe7m\\xbf-\\xe5\\x0f/vg6\\xf7U\\xb7\\xc24\\xaa\\xd1u\\xe6\\xc7=\\xb3\\x92\\x1e\\x86\\x1b\\xd6-\\x18\\xe7\\x97I>-\\xa3\\x10dq\\x00N\\xe7\\xc87\\x0f\\x11u\\xb9\\xa4\\x0e\\xa5z\\xd7c\\xb2\\x0c+\\x18\\x08\\xcenG\\x80A\\xb2\\xe3\\xbf\\xd0P\\xf4^C\\x8d\\xdb\\xb1a\\xdb\\x13DL\\x91\\xdd\\xd9\\xac\\xb0\\xb1\\xae7Y\\x9e]^+<ziKg\\xd9\\x1d\\xa2\\x11\\xb7\\x0b#\\xf2\\xb2iYmh$\\x9c\\x80\\xb4V\\xedA\\xb0O\\xfd.<6\\xb6\\x1b\\xfc\\xddq\\xae\\x7f?\\xa5\\xc9\\xd2c\\x99\\xd5}S\\xfd\\x9e\\xa6\\x8b\\xe6\\x17\\xe6k]\\xf8\\x9a\\xd7|\\xc5\\xaf\\xa5\\xef\\xc4\\xee6\\xf2\\xf5\\xae\\x04DU\\x04D@DD\\x04DD\\x11\\x11PQU\\x10\\x11\\x11\\x04UEQ\\\\h\\xa2\\xaa*\\xa2\"\\x02\\xa1E$`s\\\\\\xd3t\\xe6\\x96\\x9a4h\\x8a:\\xf0A\\xa1v\\xa3k\\x1cL\\xd9#?s\\x11!\\x87\\x83\\x9f\\xc5\\xfdzyuZ\\xf6?\\n\\xec\\xb9\\x1a-\\xc7OR\\xbb\\xf7v?\\x1e\\xe9[RC\\x14[\\x9c\\xe1\\xe2-\\x17\\xad\\x0e\\x7f\\xfdk`oc\\xe0\\x19~\\xf6bCr\\xba\\xdc<N\\xbd_\\xbbC\\xc2\\x86\\x8b\\xe6\\xaf\\xd0\\xf5Y\\xaf9\\'[\\xfc\\xb2\\x89\\xd44|\\x1e\\x18a\\xa3\\xc8\\xdd\\\\H/w3\\xc9v{7\\x03$\\xf2\\x064o\\xf7\\x9d\\xf0\\xb4u[\\\\]\\x96\\xc3\\x87\\x178\\xbd\\xfa\\x8c\\xad\\xbc\\xadh\\xad\\xd47\\xdf5\\xdb\\xe10\\xb1\\xc42\\xc6\\xc0\\xd1\\xd3\\x8f\\xaa\\xb8\\xfe\\x0b\\x92\\xd7\\xee\\xcbh\\xd7\\xbe\\xbc\\xb3\\x9c\\x9c:\\xfe\\xcd\\n\\x8aFq\\x8ey\\xa3<=\\xd7U\\xfd\\x17l\\xba\\x1e\\xccbY$\\x98\\xf3\\x19%\\xbfku\\x12*\\xceP\\x1cGK\\x05w\\xab\\xe81V+H\\xad|G\\rv\\xf2\\xc5;3\\r\\xdf}\\xa7\\xec\\xf0\\xfd\\xa2\\xb2\\xf7\\xfd\\xd3;\\xda\\xe5\\x9e\\xadr\\xe30\\x91\\xcf\\x1b\\xa2\\x91\\xa1\\xccx \\xd8\\x04\\x8b\\x15b\\xf7\\x1dw\\xaed\\xb0\\x01$\\x80\\x06\\xa4\\x93@\\x0ed\\xac\\xd3\\x97\\x82v\\x9fa\\x86m\\x0f\\xb2\\xb1\\xc1\\xceou\\t,\\x8cF\\xd2\\xd7\\x06\\x9c\\xd4>/\\x1e\\xa7\\xa1]\\xa6:\\x06\\xbbj\\xc3\\x13E\\xf7qG\\x18\\x00\\x02\\xd0\\xf7\\x1b\\x00\\x924\\x1a\\x81\\xe8\\xb2vd\\x1d\\xfe\\xd4\\x96l\\xd6\\x0b\\xf1\\x13\\x07Y\\xac\\xaey\\r\\xfdB\\x9b\\x00\\x19\\xf6\\xd1w\\x84\\x8e\\xf1\\x96o_\\t/\\xd0r^fx\\xdd{c\\xdf\\x87\\xa5\\x83{\\xee\\xfbC\\xd70\\xd1dc\\x19w\\x91\\x8dm\\xf3\\xa1V\\xb9\\x10\\xa2\\xf4\\xe25\\x1a\\x87\\x9b3\\xb9\\xd8\\xaa\\x88\\xaa\\x08\\x88\\x80\\x88\\x88\\n\\xa8\\x88\\x08\\x88\\xa8\"\\x8a\\xa2\"\\x8a\\x95\\x11ETDG\\x1a\\xaa*\\xa3!U\\x15@DD\\x15\\x11\\x10\\x15\\n*\\x83\\xa9\\xc2\\xc2!\\xc6\\xca\\xd6\\x80\\xd6\\xcf\\x18\\x9a\\x80\\xaf\\xbc\\x07+\\x8f\\xd2\\xfdWl\\xba\\x9d\\xb5/u.\\x16n\\x01\\xf2F\\xfd\\xfe\\xe3\\x99\\x9b\\xe9\\x96\\xd7j\\xc7\\x07\\x00\\xe0l\\x10\\x08<\\xc1\\xdc\\xb0\\xaf\\x99\\x85\\x9fiU\\xa5\\xfbTc\\x9d\\x84\\x8d\\xd1\\xb8TX\\x96w\\xad\\x1a\\xb8\\x07\\xb5\\xc1\\xb6xk^v\\x16\\xe8\\x17\\x9b{C\\xc1\\x98&{\\x9a\\xea\\x8bh\\xb66\\xbf\\xc5A\\x93E#\\x1c\\t\\xe8i\\xbf\\xd5\\xcdL\\x9e\\x96X\\xfdL.\\xcaEL\\x9e^>\\x18\\xdb\\xbf\\xe1m\\x93\\xea_\\xf4[\\x8ff;\\'\\x0e\\x19\\xe3\\x17\\xdeH\\xf9$`pk\\xb2\\x88\\xe2\\xcc\\xddr\\x80,\\x9dw\\x93\\xc4\\xadK/q\\x85\\x85\\x9b\\x8b\\xdeov\\xa3+\\x8e\\xff\\x00\\xe5[oapx\\x98\\xe1s\\xe7\\x99\\xef\\x8aJ\\xfb<Ovr\\xc8\\xc6\\x99\\x8b\\x8e\\xba\\x8a\\xa1\\xba\\x87U\\xcd\\x8a\"o\\xccoN\\x8b\\xcd\\xabN\\'\\xcf\\xf7l\\xe8\\xa2\\xebv\\xfe%\\xed\\x8d\\xb1C]\\xfe!\\xfd\\xd4|\\xda\\x08\\xf1\\xc9\\xa7\\xe1\\x1cxh\\xbb&u\\x1brDnt\\xcf\\x86f\\xbf1n\\xa1\\xae,\\xcd\\xc0\\x91\\xefW\\x91\\xb1\\xe6\\n\\xe4\\\\\\x18,+a\\x8d\\x912\\xf2\\xb1\\xa1\\xa0\\x9dI\\xe6\\xe3\\xd4\\x9b>\\xab\\x9d \\x11\\x11T\\x11\\x11\\x01\\x11\\x02\\x02\\x8a\\xa8U\\x04P\\xaa\\x88\\x15\\x15Q\\x01U\\x11\\x07\\x1a\\xa8\\x8a2\\x15D@DD\\x05Q\\x10\\x11TA\\xd4\\xf6\\x8f\\xdc\\x83\\xfd\\xc3\\x7f\\xe3z\\xed\\x80\\xa0\\x00\\xddH\\x8b\\x08\\xf5J\\xfb@\\xbc\\xd3\\xdbw\\xf0\\xb6y\\xe2\\'\\x96\\xbaxZ\\x88\\x99=2\\xb4\\xf2\\xe1\\xdb\\xe3\\xc3\\x87\\xe8\\x1b]5h^\\x8d\\xb1\\x7f\\xfc\\x98_\\xf6\\xf0\\x7f\\xc6\\x11\\x16\\x8c\\x1e\\xab7\\xe6\\xf4U\\x98\\xb5\\xdc)\\'lN\\x0e\\xa1\\x98F\\xe5\\x07\\\\\\xb6c\\xba\\xe5\\xbc\\xa2-\\xd7\\xf3\\x1f\\xb6\\x9a{\\xfe\\x9b\\x12\\xa1D[\\x18*\"\"\\x08\\xa2 \\xa8\\x88\\x80\\xa1DDEB\"\\xa0\\xa2\\xa8\\x82\"\"\\x0f\\xff\\xd9'}"
            ]
          },
          "metadata": {},
          "execution_count": 12
        }
      ]
    },
    {
      "cell_type": "code",
      "source": [
        "# let's give the location of the image\n",
        "from PIL import Image\n",
        "from skimage import io, transform\n",
        "import matplotlib.pyplot as plt\n",
        "img = Image.open('/content/brid.jfif')"
      ],
      "metadata": {
        "id": "FcgnGSC7eKCE"
      },
      "execution_count": null,
      "outputs": []
    },
    {
      "cell_type": "code",
      "source": [
        "img"
      ],
      "metadata": {
        "id": "IDunU2ImeiOc",
        "colab": {
          "base_uri": "https://localhost:8080/",
          "height": 211
        },
        "outputId": "31548a85-a609-46f6-fc76-b1c134ba1d1e"
      },
      "execution_count": null,
      "outputs": [
        {
          "output_type": "execute_result",
          "data": {
            "text/plain": [
              "<PIL.JpegImagePlugin.JpegImageFile image mode=RGB size=259x194 at 0x7F159D577430>"
            ],
            "image/png": "[encoded data removed]"
          },
          "metadata": {},
          "execution_count": 14
        }
      ]
    },
    {
      "cell_type": "code",
      "source": [
        "img.resize((256,256))"
      ],
      "metadata": {
        "id": "58FQGGQfkXna",
        "colab": {
          "base_uri": "https://localhost:8080/",
          "height": 273
        },
        "outputId": "65720a51-2766-4469-9ccd-2bb35469a305"
      },
      "execution_count": null,
      "outputs": [
        {
          "output_type": "execute_result",
          "data": {
            "text/plain": [
              "<PIL.Image.Image image mode=RGB size=256x256 at 0x7F1680449870>"
            ],
            "image/png": "[encoded data removed]"
          },
          "metadata": {},
          "execution_count": 15
        }
      ]
    },
    {
      "cell_type": "markdown",
      "source": [
        "## Step 5: Preparing the image as a batch dataset\n",
        "\n",
        "-  A batch dataset is a static dataset to be passed through a network"
      ],
      "metadata": {
        "id": "zX5IGA5BkiUy"
      }
    },
    {
      "cell_type": "code",
      "source": [
        "# let's covert the imae to a barch dataset\n",
        "import torch\n",
        "from torchvision import transforms\n",
        "\n",
        "# define the transformation function\n",
        "transform = transforms.Compose([\n",
        "    transforms.Resize((224, 224)),\n",
        "    transforms.ToTensor(),\n",
        "    transforms.Normalize(mean=[0.485, 0.456, 0.406],\n",
        "                         std=[0.229, 0.224, 0.225])\n",
        "])\n",
        "img_t = transform(img)\n",
        "batch_t = torch.unsqueeze(img_t, 0)"
      ],
      "metadata": {
        "id": "F_-NJzfOlHO4"
      },
      "execution_count": null,
      "outputs": []
    },
    {
      "cell_type": "code",
      "source": [
        "# let's see the shap of this batch dataset\n",
        "img_t.shape"
      ],
      "metadata": {
        "id": "G0FGWFqunTtO",
        "colab": {
          "base_uri": "https://localhost:8080/"
        },
        "outputId": "52030e07-bc4e-40bf-b0bc-6c3bfc7144ca"
      },
      "execution_count": null,
      "outputs": [
        {
          "output_type": "execute_result",
          "data": {
            "text/plain": [
              "torch.Size([3, 224, 224])"
            ]
          },
          "metadata": {},
          "execution_count": 19
        }
      ]
    },
    {
      "cell_type": "markdown",
      "source": [
        "## Step 6: Using the pre-trained models to evaluated the image"
      ],
      "metadata": {
        "id": "j8F_Lpr1nzoL"
      }
    },
    {
      "cell_type": "code",
      "source": [
        "# first, let's put the mdel in the evalualtion\n",
        "alexnet.eval()"
      ],
      "metadata": {
        "id": "mlGSaGPdoU5d",
        "colab": {
          "base_uri": "https://localhost:8080/"
        },
        "outputId": "172583cf-3750-4904-d625-3f870af25019"
      },
      "execution_count": null,
      "outputs": [
        {
          "output_type": "execute_result",
          "data": {
            "text/plain": [
              "AlexNet(\n",
              "  (features): Sequential(\n",
              "    (0): Conv2d(3, 64, kernel_size=(11, 11), stride=(4, 4), padding=(2, 2))\n",
              "    (1): ReLU(inplace=True)\n",
              "    (2): MaxPool2d(kernel_size=3, stride=2, padding=0, dilation=1, ceil_mode=False)\n",
              "    (3): Conv2d(64, 192, kernel_size=(5, 5), stride=(1, 1), padding=(2, 2))\n",
              "    (4): ReLU(inplace=True)\n",
              "    (5): MaxPool2d(kernel_size=3, stride=2, padding=0, dilation=1, ceil_mode=False)\n",
              "    (6): Conv2d(192, 384, kernel_size=(3, 3), stride=(1, 1), padding=(1, 1))\n",
              "    (7): ReLU(inplace=True)\n",
              "    (8): Conv2d(384, 256, kernel_size=(3, 3), stride=(1, 1), padding=(1, 1))\n",
              "    (9): ReLU(inplace=True)\n",
              "    (10): Conv2d(256, 256, kernel_size=(3, 3), stride=(1, 1), padding=(1, 1))\n",
              "    (11): ReLU(inplace=True)\n",
              "    (12): MaxPool2d(kernel_size=3, stride=2, padding=0, dilation=1, ceil_mode=False)\n",
              "  )\n",
              "  (avgpool): AdaptiveAvgPool2d(output_size=(6, 6))\n",
              "  (classifier): Sequential(\n",
              "    (0): Dropout(p=0.5, inplace=False)\n",
              "    (1): Linear(in_features=9216, out_features=4096, bias=True)\n",
              "    (2): ReLU(inplace=True)\n",
              "    (3): Dropout(p=0.5, inplace=False)\n",
              "    (4): Linear(in_features=4096, out_features=4096, bias=True)\n",
              "    (5): ReLU(inplace=True)\n",
              "    (6): Linear(in_features=4096, out_features=1000, bias=True)\n",
              "  )\n",
              ")"
            ]
          },
          "metadata": {},
          "execution_count": 20
        }
      ]
    },
    {
      "cell_type": "code",
      "source": [
        "# nexr, let's read the batch dataset and get shape of it\n",
        "out = alexnet(batch_t)"
      ],
      "metadata": {
        "id": "0IrGaoZ3p5I1"
      },
      "execution_count": null,
      "outputs": []
    },
    {
      "cell_type": "code",
      "source": [
        "out.shape"
      ],
      "metadata": {
        "id": "bMx-D-3_qPxs",
        "colab": {
          "base_uri": "https://localhost:8080/"
        },
        "outputId": "a31b2482-25ac-4f67-82b5-251f5f6a697c"
      },
      "execution_count": null,
      "outputs": [
        {
          "output_type": "execute_result",
          "data": {
            "text/plain": [
              "torch.Size([1, 1000])"
            ]
          },
          "metadata": {},
          "execution_count": 22
        }
      ]
    },
    {
      "cell_type": "markdown",
      "source": [
        "**Obsevations;**\n",
        "1. As we can see, the dataset now is a vector with 1000 values or classes\n",
        "2. The dataset now is like a Python list (one dimension dataset)\n",
        "3. It's very important to match the specification in the text file."
      ],
      "metadata": {
        "id": "vK00n1gxqfQ3"
      }
    },
    {
      "cell_type": "code",
      "source": [
        "# now, it's time to open the text file (imagenet.txt)\n",
        "# with open('/content/imagenet_classes.txt') as f:\n",
        "#   classes = [line.strip() for line in f.readlines()]\n",
        "#   print(\"Number of classes: {}\" .format(len(classes)))\n",
        "#   classes"
      ],
      "metadata": {
        "id": "8eZliZ5vrCt7"
      },
      "execution_count": null,
      "outputs": []
    },
    {
      "cell_type": "code",
      "source": [
        "from numpy.core.numeric import indices\n",
        "# then, let's match the classes in the text file with each animal's image\n",
        "# _, indices = torch.sort(out, descending=True)\n",
        "# percentage = torch.nn.functional.softmax(out, dim=1)[0]*100\n",
        "# [(classes[idx], percentage[idx].item()) for idx in indices[0][:10]]"
      ],
      "metadata": {
        "id": "wjKzGlNvu3ZR",
        "colab": {
          "base_uri": "https://localhost:8080/",
          "height": 288
        },
        "outputId": "784db354-e623-4cae-e052-172fe961e41b"
      },
      "execution_count": null,
      "outputs": [
        {
          "output_type": "error",
          "ename": "NameError",
          "evalue": "ignored",
          "traceback": [
            "\u001b[0;31m---------------------------------------------------------------------------\u001b[0m",
            "\u001b[0;31mNameError\u001b[0m                                 Traceback (most recent call last)",
            "\u001b[0;32m<ipython-input-25-bd40d7e7f316>\u001b[0m in \u001b[0;36m<cell line: 5>\u001b[0;34m()\u001b[0m\n\u001b[1;32m      3\u001b[0m \u001b[0m_\u001b[0m\u001b[0;34m,\u001b[0m \u001b[0mindices\u001b[0m \u001b[0;34m=\u001b[0m \u001b[0mtorch\u001b[0m\u001b[0;34m.\u001b[0m\u001b[0msort\u001b[0m\u001b[0;34m(\u001b[0m\u001b[0mout\u001b[0m\u001b[0;34m,\u001b[0m \u001b[0mdescending\u001b[0m\u001b[0;34m=\u001b[0m\u001b[0;32mTrue\u001b[0m\u001b[0;34m)\u001b[0m\u001b[0;34m\u001b[0m\u001b[0;34m\u001b[0m\u001b[0m\n\u001b[1;32m      4\u001b[0m \u001b[0mpercentage\u001b[0m \u001b[0;34m=\u001b[0m \u001b[0mtorch\u001b[0m\u001b[0;34m.\u001b[0m\u001b[0mnn\u001b[0m\u001b[0;34m.\u001b[0m\u001b[0mfunctional\u001b[0m\u001b[0;34m.\u001b[0m\u001b[0msoftmax\u001b[0m\u001b[0;34m(\u001b[0m\u001b[0mout\u001b[0m\u001b[0;34m,\u001b[0m \u001b[0mdim\u001b[0m\u001b[0;34m=\u001b[0m\u001b[0;36m1\u001b[0m\u001b[0;34m)\u001b[0m\u001b[0;34m[\u001b[0m\u001b[0;36m0\u001b[0m\u001b[0;34m]\u001b[0m\u001b[0;34m*\u001b[0m\u001b[0;36m100\u001b[0m\u001b[0;34m\u001b[0m\u001b[0;34m\u001b[0m\u001b[0m\n\u001b[0;32m----> 5\u001b[0;31m \u001b[0;34m[\u001b[0m\u001b[0;34m(\u001b[0m\u001b[0mclasses\u001b[0m\u001b[0;34m[\u001b[0m\u001b[0midx\u001b[0m\u001b[0;34m]\u001b[0m\u001b[0;34m,\u001b[0m \u001b[0mpercentage\u001b[0m\u001b[0;34m[\u001b[0m\u001b[0midx\u001b[0m\u001b[0;34m]\u001b[0m\u001b[0;34m.\u001b[0m\u001b[0mitem\u001b[0m\u001b[0;34m(\u001b[0m\u001b[0;34m)\u001b[0m\u001b[0;34m)\u001b[0m \u001b[0;32mfor\u001b[0m \u001b[0midx\u001b[0m \u001b[0;32min\u001b[0m \u001b[0mindices\u001b[0m\u001b[0;34m[\u001b[0m\u001b[0;36m0\u001b[0m\u001b[0;34m]\u001b[0m\u001b[0;34m[\u001b[0m\u001b[0;34m:\u001b[0m\u001b[0;36m10\u001b[0m\u001b[0;34m]\u001b[0m\u001b[0;34m]\u001b[0m\u001b[0;34m\u001b[0m\u001b[0;34m\u001b[0m\u001b[0m\n\u001b[0m",
            "\u001b[0;32m<ipython-input-25-bd40d7e7f316>\u001b[0m in \u001b[0;36m<listcomp>\u001b[0;34m(.0)\u001b[0m\n\u001b[1;32m      3\u001b[0m \u001b[0m_\u001b[0m\u001b[0;34m,\u001b[0m \u001b[0mindices\u001b[0m \u001b[0;34m=\u001b[0m \u001b[0mtorch\u001b[0m\u001b[0;34m.\u001b[0m\u001b[0msort\u001b[0m\u001b[0;34m(\u001b[0m\u001b[0mout\u001b[0m\u001b[0;34m,\u001b[0m \u001b[0mdescending\u001b[0m\u001b[0;34m=\u001b[0m\u001b[0;32mTrue\u001b[0m\u001b[0;34m)\u001b[0m\u001b[0;34m\u001b[0m\u001b[0;34m\u001b[0m\u001b[0m\n\u001b[1;32m      4\u001b[0m \u001b[0mpercentage\u001b[0m \u001b[0;34m=\u001b[0m \u001b[0mtorch\u001b[0m\u001b[0;34m.\u001b[0m\u001b[0mnn\u001b[0m\u001b[0;34m.\u001b[0m\u001b[0mfunctional\u001b[0m\u001b[0;34m.\u001b[0m\u001b[0msoftmax\u001b[0m\u001b[0;34m(\u001b[0m\u001b[0mout\u001b[0m\u001b[0;34m,\u001b[0m \u001b[0mdim\u001b[0m\u001b[0;34m=\u001b[0m\u001b[0;36m1\u001b[0m\u001b[0;34m)\u001b[0m\u001b[0;34m[\u001b[0m\u001b[0;36m0\u001b[0m\u001b[0;34m]\u001b[0m\u001b[0;34m*\u001b[0m\u001b[0;36m100\u001b[0m\u001b[0;34m\u001b[0m\u001b[0;34m\u001b[0m\u001b[0m\n\u001b[0;32m----> 5\u001b[0;31m \u001b[0;34m[\u001b[0m\u001b[0;34m(\u001b[0m\u001b[0mclasses\u001b[0m\u001b[0;34m[\u001b[0m\u001b[0midx\u001b[0m\u001b[0;34m]\u001b[0m\u001b[0;34m,\u001b[0m \u001b[0mpercentage\u001b[0m\u001b[0;34m[\u001b[0m\u001b[0midx\u001b[0m\u001b[0;34m]\u001b[0m\u001b[0;34m.\u001b[0m\u001b[0mitem\u001b[0m\u001b[0;34m(\u001b[0m\u001b[0;34m)\u001b[0m\u001b[0;34m)\u001b[0m \u001b[0;32mfor\u001b[0m \u001b[0midx\u001b[0m \u001b[0;32min\u001b[0m \u001b[0mindices\u001b[0m\u001b[0;34m[\u001b[0m\u001b[0;36m0\u001b[0m\u001b[0;34m]\u001b[0m\u001b[0;34m[\u001b[0m\u001b[0;34m:\u001b[0m\u001b[0;36m10\u001b[0m\u001b[0;34m]\u001b[0m\u001b[0;34m]\u001b[0m\u001b[0;34m\u001b[0m\u001b[0;34m\u001b[0m\u001b[0m\n\u001b[0m",
            "\u001b[0;31mNameError\u001b[0m: name 'classes' is not defined"
          ]
        }
      ]
    },
    {
      "cell_type": "markdown",
      "source": [
        "# Conclusion\n",
        "1. As we can see, the model is predicting the image is a type of brid.\n",
        "2. The accuracy of the model predition is 74.67% is a good prediction.\n",
        "3. Then, the model is predicting other animal as listed descendingly  (from the largest to the smallest) order"
      ],
      "metadata": {
        "id": "ygYOg7lLzZUr"
      }
    },
    {
      "cell_type": "markdown",
      "source": [
        "References:\n",
        " - https://coderzcolumn.com/tutorials/artificial-intelligence/pytorch-image-classification-using-pre-trained-models\n",
        "\n",
        "- https://pyimagesearch.com/2021/07/26/pytorch-image-classification-with-pre-trained-networks/\n",
        "\n",
        "\n",
        "\n"
      ],
      "metadata": {
        "id": "N4CLq1dT1XsR"
      }
    }
  ]
}