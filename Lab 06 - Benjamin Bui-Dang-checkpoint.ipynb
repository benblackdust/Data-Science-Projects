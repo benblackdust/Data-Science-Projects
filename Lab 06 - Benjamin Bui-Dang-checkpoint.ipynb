{
 "cells": [
  {
   "cell_type": "markdown",
   "id": "d240d3e2",
   "metadata": {},
   "source": [
    "# Lab 06 - Visualization - Benjamin Bui-Dang"
   ]
  },
  {
   "cell_type": "markdown",
   "id": "cfe5e170",
   "metadata": {},
   "source": [
    "## Data Visualization (Viz)\n",
    "What is viz?\n",
    "\n",
    "   - Graphical presentation of data.\n",
    "### Uses of Viz: It makes the following tasks easier:\n",
    "1. Making decisions for non-technical managers.\n",
    "2. Finding data patterns.\n",
    "3. Discovering current trends.\n",
    "4. Communicating more effectively.\n",
    "### Python Visualization Libraries:\n",
    " 1. Matplotlib:\n",
    " 2. Seaborn:\n",
    "- They both are built on top of NumPy\n",
    "- These libraries are said to be platform-independent:\n",
    "         - They can operate on any popular OS (operating system) such as Windows, Linux, and MacOS.\n",
    "- Pyplot is an API (Application Program Interface) that enables Matplotlib to perform more interactively.\n",
    "- Best source for matplotlib is https://matplotlib.org/"
   ]
  },
  {
   "cell_type": "markdown",
   "id": "57e8e9bc",
   "metadata": {},
   "source": [
    "## Installing Matplotlib"
   ]
  },
  {
   "cell_type": "code",
   "execution_count": 1,
   "id": "d295aee0",
   "metadata": {},
   "outputs": [
    {
     "name": "stdout",
     "output_type": "stream",
     "text": [
      "Requirement already satisfied: matplotlib in c:\\anaconda\\lib\\site-packages (3.5.1)\n",
      "Requirement already satisfied: fonttools>=4.22.0 in c:\\anaconda\\lib\\site-packages (from matplotlib) (4.25.0)\n",
      "Requirement already satisfied: pillow>=6.2.0 in c:\\anaconda\\lib\\site-packages (from matplotlib) (9.0.1)\n",
      "Requirement already satisfied: cycler>=0.10 in c:\\anaconda\\lib\\site-packages (from matplotlib) (0.11.0)\n",
      "Requirement already satisfied: python-dateutil>=2.7 in c:\\anaconda\\lib\\site-packages (from matplotlib) (2.8.2)\n",
      "Requirement already satisfied: packaging>=20.0 in c:\\anaconda\\lib\\site-packages (from matplotlib) (21.3)\n",
      "Requirement already satisfied: numpy>=1.17 in c:\\anaconda\\lib\\site-packages (from matplotlib) (1.21.5)\n",
      "Requirement already satisfied: pyparsing>=2.2.1 in c:\\anaconda\\lib\\site-packages (from matplotlib) (3.0.4)\n",
      "Requirement already satisfied: kiwisolver>=1.0.1 in c:\\anaconda\\lib\\site-packages (from matplotlib) (1.3.2)\n",
      "Requirement already satisfied: six>=1.5 in c:\\anaconda\\lib\\site-packages (from python-dateutil>=2.7->matplotlib) (1.16.0)\n"
     ]
    }
   ],
   "source": [
    "!pip install matplotlib"
   ]
  },
  {
   "cell_type": "code",
   "execution_count": null,
   "id": "88ab8ac8",
   "metadata": {},
   "outputs": [],
   "source": [
    "!pip install seaborn\n"
   ]
  },
  {
   "cell_type": "markdown",
   "id": "3303c062",
   "metadata": {},
   "source": [
    "## Context\n",
    "- We will use titanic dataset\n",
    "- The dataset is about the survival rate of the passengers in the Titanic ship."
   ]
  },
  {
   "cell_type": "markdown",
   "id": "a778f969",
   "metadata": {},
   "source": [
    "## Objectives:\n",
    "- We want to learn data visualization"
   ]
  },
  {
   "cell_type": "markdown",
   "id": "e9f11507",
   "metadata": {},
   "source": [
    "## Data Description:"
   ]
  },
  {
   "cell_type": "markdown",
   "id": "873d5189",
   "metadata": {},
   "source": [
    "### Importing Libraries"
   ]
  },
  {
   "cell_type": "code",
   "execution_count": null,
   "id": "4dbe9b53",
   "metadata": {},
   "outputs": [],
   "source": [
    "# general libraries\n",
    "import numpy as np\n",
    "import pandas as pd\n",
    "import math\n",
    "\n",
    "# data visualization libraries\n",
    "import matplotlib.pyplot as plt\n",
    "import seaborn as sns\n",
    "\n",
    "# supressing any warning\n",
    "import warnings\n",
    "warnings.filterwarnings('ignore')"
   ]
  },
  {
   "cell_type": "markdown",
   "id": "7fa8b46f",
   "metadata": {},
   "source": [
    "### Part 1: Types of Graphs/ Plots\n",
    "1. **Line Plots**\n",
    "- One of the simplest plots.\n",
    "- They indicate the progress of a tend over time."
   ]
  },
  {
   "cell_type": "code",
   "execution_count": null,
   "id": "13a47023",
   "metadata": {},
   "outputs": [],
   "source": [
    "# creating my dataset\n",
    "a = np.linspace(0,10)\n",
    "\n",
    "# creating the line plot \n",
    "plt.plot(a, np.sin(a))\n",
    "plt.plot(a, np.cos(a))\n",
    "\n",
    "#dsiplaying the plot\n",
    "plt.show()"
   ]
  },
  {
   "cell_type": "code",
   "execution_count": null,
   "id": "88ff54d3",
   "metadata": {},
   "outputs": [],
   "source": [
    "# creating a dataset with x and y\n",
    "x = np.array([0,5])\n",
    "y = np.array([0,20])\n",
    "\n",
    "#creating the plot\n",
    "plt.plot(x,y);"
   ]
  },
  {
   "cell_type": "code",
   "execution_count": null,
   "id": "7a332efb",
   "metadata": {},
   "outputs": [],
   "source": [
    "# creating dataset \n",
    "y = np.array([12,0,9,2,14])\n",
    "\n",
    "# creating plot\n",
    "plt.plot(y, marker = '*',color='red');"
   ]
  },
  {
   "cell_type": "code",
   "execution_count": null,
   "id": "5c4bce91",
   "metadata": {},
   "outputs": [],
   "source": [
    "# creating dataset (Float)\n",
    "y = np.array([0.5,2.0,3.5,4.0])\n",
    "\n",
    "# creating plot\n",
    "plt.plot(y, linestyle = 'dashed',color='green'); #linestyle = 'dotted'"
   ]
  },
  {
   "cell_type": "code",
   "execution_count": null,
   "id": "7c5b5c1e",
   "metadata": {},
   "outputs": [],
   "source": [
    "# creating dataset \n",
    "x = pd.Series(['Sunday','Monday','Tuesday','Wednesday','Thursday'])\n",
    "y = pd.Series(['Running','Tennis','Biking','Football','Walking'])\n",
    "\n",
    "# creating plot\n",
    "plt.plot(x, y)\n",
    "\n",
    "# adding more items to the plot \n",
    "plt.title('Days vs Sports')\n",
    "plt.xlabel('Days')\n",
    "plt.ylabel('Sports')\n",
    "\n",
    "plt.grid()"
   ]
  },
  {
   "cell_type": "markdown",
   "id": "d1874e84",
   "metadata": {},
   "source": [
    "2. **Bar Plots**\n",
    "- To compare different categories"
   ]
  },
  {
   "cell_type": "code",
   "execution_count": null,
   "id": "4f91ee2a",
   "metadata": {},
   "outputs": [],
   "source": [
    "# creating dataset\n",
    "df1 = pd.DataFrame.from_dict(\n",
    "{\n",
    "    'Year': [2016,2017,2018,2022],\n",
    "    'Men': [300,305,325,350],\n",
    "    'Women': [280,301,325,355],\n",
    "    'Total': [500,606,650,705]\n",
    "}\n",
    ")\n",
    "\n",
    "# creating bar plot\n",
    "plt.bar(x=df1['Year'], height=df1['Women']);"
   ]
  },
  {
   "cell_type": "markdown",
   "id": "18de0c96",
   "metadata": {},
   "source": [
    "3. **Pie Charts**\n",
    "- To show the porportion over whole"
   ]
  },
  {
   "cell_type": "code",
   "execution_count": null,
   "id": "86e35d8c",
   "metadata": {},
   "outputs": [],
   "source": [
    "# creating dataset \n",
    "y = np.array([5,20,10,8])\n",
    "\n",
    "# creating pie chart\n",
    "plt.pie(y);"
   ]
  },
  {
   "cell_type": "code",
   "execution_count": null,
   "id": "eb84bf45",
   "metadata": {},
   "outputs": [],
   "source": [
    "# creating dataset\n",
    "y = np.array([5, 20 ,10, 8])\n",
    "cars = ['Benz','Honda', 'Ford', 'Nissan']\n",
    "\n",
    "# creating pie chart\n",
    "plt.pie(y,labels= cars);"
   ]
  },
  {
   "cell_type": "code",
   "execution_count": null,
   "id": "60f52a60",
   "metadata": {},
   "outputs": [],
   "source": [
    "# creating dataset\n",
    "y = np.array([5, 20 ,10, 8])\n",
    "cars = ['Benz','Honda', 'Ford', 'Nissan']\n",
    "\n",
    "# Let's make a wedge to stand out \n",
    "wedge = [0,0.2,0,0]\n",
    "\n",
    "# creating pie chart\n",
    "plt.pie(y,labels= cars, explode = wedge);"
   ]
  },
  {
   "cell_type": "code",
   "execution_count": null,
   "id": "248a9696",
   "metadata": {},
   "outputs": [],
   "source": [
    "# creating dataset\n",
    "y = np.array([5, 20 ,10, 8])\n",
    "cars = ['Benz','Honda', 'Ford', 'Nissan']\n",
    "\n",
    "# adding colors\n",
    "colr = ['b', 'c', 'm', 'y']\n",
    "\n",
    "# creating pie chart\n",
    "plt.pie(y,labels= cars, colors=colr);"
   ]
  },
  {
   "cell_type": "markdown",
   "id": "798ced30",
   "metadata": {},
   "source": [
    "**Color Codes**1\n",
    "\n",
    "1. 'r' for red\n",
    "2. 'g' for green\n",
    "3. 'b' for Blue\n",
    "4. 'c' for cyan\n",
    "5. 'm' for magenta\n",
    "6. 'y' for yellow\n",
    "7. 'k' for black\n",
    "8. 'w' for white"
   ]
  },
  {
   "cell_type": "code",
   "execution_count": null,
   "id": "16c242c5",
   "metadata": {},
   "outputs": [],
   "source": [
    "# creating dataset\n",
    "y = np.array([5, 20 ,10, 8])\n",
    "cars = ['Benz','Honda', 'Ford', 'Nissan']\n",
    "\n",
    "# adding colors\n",
    "colr = ['b', 'c', 'm', 'y']\n",
    "\n",
    "# creating pie chart\n",
    "plt.pie(y,labels= cars, colors=colr);\n",
    "\n",
    "# creating a legend\n",
    "plt.legend();"
   ]
  },
  {
   "cell_type": "markdown",
   "id": "972c2d92",
   "metadata": {},
   "source": [
    "**4. Scattered Plot**\n",
    "- To find relationship between different variables\n",
    "- Each doty shows one observation.\n",
    "- The two varibables should be of the same size (x,y)."
   ]
  },
  {
   "cell_type": "code",
   "execution_count": null,
   "id": "3a5c11c0",
   "metadata": {},
   "outputs": [],
   "source": [
    "# creating dataset\n",
    "x = np.array([1, 2, 3, 4, 5, 6, 7])\n",
    "y = np.array([0, 2, 6, 9, 3, 4, 5])\n",
    "\n",
    "# creating plot \n",
    "plt.scatter(x, y, c=y, cmap= 'RdYlGn', s=500, edgecolors= 'black')\n",
    "plt.colorbar();"
   ]
  },
  {
   "cell_type": "code",
   "execution_count": null,
   "id": "0f2d6523",
   "metadata": {},
   "outputs": [],
   "source": [
    "# creating dataset\n",
    "x = np.array([1, 2, 3, 4, 5, 6, 7])\n",
    "y = np.array([0, 2, 6, 9, 3, 4, 5])\n",
    "\n",
    "# creating plot \n",
    "plt.scatter(x, y, c=y, cmap= 'RdYlGn', s=500, edgecolors= 'black')\n",
    "plt.colorbar()\n",
    "plt.gray();"
   ]
  },
  {
   "cell_type": "markdown",
   "id": "e98877b1",
   "metadata": {},
   "source": [
    "**5. Histograms**\n",
    "\n",
    "- One of the most popular plots\n",
    "- To find the data distribution (frequency)"
   ]
  },
  {
   "cell_type": "markdown",
   "id": "c7cd6b8b",
   "metadata": {},
   "source": [
    "**Types of Distribution**\n",
    "\n",
    "1. Normal Distribution (0 skewness)\n",
    "2. When most of the data points are located on the left (right-skewed) or positive skewness\n",
    "3. When most of the data points are located on the right (left-skewed) or negative skewness"
   ]
  },
  {
   "cell_type": "markdown",
   "id": "d8aab00d",
   "metadata": {},
   "source": [
    "**6. Heat Maps**\n",
    "\n",
    "- To find the correlation between various variables"
   ]
  },
  {
   "cell_type": "markdown",
   "id": "1497294d",
   "metadata": {},
   "source": [
    "## Reading/Loading Dataset"
   ]
  },
  {
   "cell_type": "code",
   "execution_count": null,
   "id": "2a2b4f07",
   "metadata": {},
   "outputs": [],
   "source": [
    "# Reading the dataset\n",
    "df = pd.read_csv('Titanic.csv')"
   ]
  },
  {
   "cell_type": "code",
   "execution_count": null,
   "id": "e679e6a3",
   "metadata": {},
   "outputs": [],
   "source": [
    "df.head()"
   ]
  },
  {
   "cell_type": "code",
   "execution_count": null,
   "id": "171dc3c4",
   "metadata": {},
   "outputs": [],
   "source": [
    "df.shape\n"
   ]
  },
  {
   "cell_type": "code",
   "execution_count": null,
   "id": "ce72c41e",
   "metadata": {},
   "outputs": [],
   "source": [
    "df.info()\n"
   ]
  },
  {
   "cell_type": "code",
   "execution_count": null,
   "id": "42f9ccef",
   "metadata": {},
   "outputs": [],
   "source": [
    "df.describe().T"
   ]
  },
  {
   "cell_type": "code",
   "execution_count": null,
   "id": "0cf10966",
   "metadata": {},
   "outputs": [],
   "source": [
    "plt.hist(df['Age']);"
   ]
  },
  {
   "cell_type": "markdown",
   "id": "ea9b4d7e",
   "metadata": {},
   "source": [
    "**Observation**\n",
    "\n",
    "- The histogram is right-skewed\n",
    "- The majority of values are in the 20 to 25 range\n",
    "- The X axis represents age.\n",
    "- The Y zxis represents the amount of passengers relative to the age."
   ]
  },
  {
   "cell_type": "code",
   "execution_count": null,
   "id": "65e6f1b0",
   "metadata": {},
   "outputs": [],
   "source": [
    "plt.hist(df['Fare']);\n"
   ]
  },
  {
   "cell_type": "markdown",
   "id": "4f7effbd",
   "metadata": {},
   "source": [
    "## Conclusion:\n",
    "1. This data set has 891 rows and 12 columns.\n",
    "2. A majority of the pasengers were in the 20 to 30 eyar old range.\n",
    "3. The age that was most absent in this dataset was from 70 years old to 80 years old. \n",
    "4. A majority of the fare prioce was from 0 to 50. \n",
    "5. The fare that was least seen was from upper 400's to 500's range.\n",
    "6. The column with the most missing values was the the cabin column. \n",
    "7. The oldest age in this dataset was 80 years old.\n",
    "8. The youngest age in this dataset was 0.42 years old. \n",
    "9. The highest fare price was 512.3292\n",
    "10. Teh average age of passengers was 29.699"
   ]
  },
  {
   "cell_type": "markdown",
   "id": "34385693",
   "metadata": {},
   "source": [
    "### End of Lab 06"
   ]
  },
  {
   "cell_type": "code",
   "execution_count": null,
   "id": "1ba95990",
   "metadata": {},
   "outputs": [],
   "source": []
  }
 ],
 "metadata": {
  "kernelspec": {
   "display_name": "Python 3 (ipykernel)",
   "language": "python",
   "name": "python3"
  },
  "language_info": {
   "codemirror_mode": {
    "name": "ipython",
    "version": 3
   },
   "file_extension": ".py",
   "mimetype": "text/x-python",
   "name": "python",
   "nbconvert_exporter": "python",
   "pygments_lexer": "ipython3",
   "version": "3.9.12"
  }
 },
 "nbformat": 4,
 "nbformat_minor": 5
}
